{
  "nbformat": 4,
  "nbformat_minor": 0,
  "metadata": {
    "colab": {
      "provenance": [],
      "collapsed_sections": [
        "NmduGGR55QzF",
        "ePTmQHUGrCR-",
        "Rew0wpiG5a5A",
        "u6IVV2zvbwSH",
        "6tqDFJ9l6ih_",
        "F_saiMm0cfYn",
        "35xPUMLHuW05"
      ],
      "gpuType": "T4"
    },
    "kernelspec": {
      "name": "python3",
      "display_name": "Python 3"
    },
    "language_info": {
      "name": "python"
    },
    "accelerator": "GPU"
  },
  "cells": [
    {
      "cell_type": "markdown",
      "source": [
        "# **Importando bibliotecas e a base de imagens**"
      ],
      "metadata": {
        "id": "NmduGGR55QzF"
      }
    },
    {
      "cell_type": "code",
      "execution_count": 1,
      "metadata": {
        "id": "h5jOdo7XKqLY"
      },
      "outputs": [],
      "source": [
        "import tensorflow as tf\n",
        "from tensorflow import keras\n",
        "import numpy as np\n",
        "import matplotlib.pyplot as plt\n",
        "import pandas as pd\n",
        "from sklearn.metrics import confusion_matrix"
      ]
    },
    {
      "cell_type": "code",
      "source": [
        "fashion_mnist = keras.datasets.fashion_mnist\n",
        "\n",
        "(xtrain, ytrain), (xtest, ytest) = fashion_mnist.load_data()"
      ],
      "metadata": {
        "id": "5IvZHLkDiu9B"
      },
      "execution_count": 2,
      "outputs": []
    },
    {
      "cell_type": "markdown",
      "source": [
        "# **Funções**:\n",
        "- Para um código mais simples e limpo.\n",
        "- Como vi que haviam repetições nos códigos, optei por criar as funções abaixo:"
      ],
      "metadata": {
        "id": "ePTmQHUGrCR-"
      }
    },
    {
      "cell_type": "code",
      "source": [
        "def loss_and_accuracy(history_passado):\n",
        "  fig, ax = plt.subplots(ncols=2,figsize=(12,4))\n",
        "  ax[0].plot(history_passado.history['loss'],label='loss')\n",
        "  ax[0].plot(history_passado.history['val_loss'], label='val_loss')\n",
        "  ax[0].legend()\n",
        "  ax[1].plot(history_passado.history['sparse_categorical_accuracy'],label='sparse_categorical_accuracy')\n",
        "  ax[1].plot(history_passado.history['val_sparse_categorical_accuracy'], label='val_sparse_categorical_accuracy')\n",
        "  ax[1].legend()\n",
        "  plt.show()"
      ],
      "metadata": {
        "id": "5ACY1EM1m3f2"
      },
      "execution_count": 44,
      "outputs": []
    },
    {
      "cell_type": "code",
      "source": [
        "def visualizar_matrix_confusao(x_teste, y_teste, modelo, amostra):\n",
        "  prev = []\n",
        "  for i in range(amostra):\n",
        "    pr = modelo.predict(np.expand_dims(x_teste[i], axis=0), verbose=0)\n",
        "    prev.append(pr.argmax())\n",
        "  prev = np.array(prev)\n",
        "  amostra = y_teste[:amostra]\n",
        "  return confusion_matrix(amostra, prev)"
      ],
      "metadata": {
        "id": "9RISeEnNnBtp"
      },
      "execution_count": 45,
      "outputs": []
    },
    {
      "cell_type": "code",
      "source": [
        "def grafico_acertos_erros_modelo(modelo_passado, x_teste, y_teste):\n",
        "  fig, axs = plt.subplots(4,5, figsize=(10,10))\n",
        "  for i,ax in enumerate(axs.flat):\n",
        "      ax.imshow(x_teste[i],cmap='gray')\n",
        "      ax.axis('off')\n",
        "      pred = modelo_passado.predict(np.expand_dims(x_teste[i], axis=0), verbose=0)\n",
        "      num_classe = y_teste[i]\n",
        "      ax.set_title(f'Item {y_teste[i]} - {classes[num_classe]}',pad=18, fontsize=10.5)\n",
        "      ax.text(14,-3,f'Previsão: {pred.argmax()} - {pred.max():.2%}', va='center', ha='center',\n",
        "              color='green' if pred.argmax() == y_teste[i] else 'red')\n",
        "  plt.show()"
      ],
      "metadata": {
        "id": "SZzrqjjCm4bX"
      },
      "execution_count": 46,
      "outputs": []
    },
    {
      "cell_type": "markdown",
      "source": [
        "# **Analisando a base:**"
      ],
      "metadata": {
        "id": "Rew0wpiG5a5A"
      }
    },
    {
      "cell_type": "code",
      "source": [
        "print(\"Dimensões do xtrain: \",xtrain.shape)\n",
        "print(\"Dimensões do ytrain: \",ytrain.shape)\n",
        "print(\"Dimensões do xtest: \",xtest.shape)\n",
        "print(\"Dimensões do ytest: \",ytest.shape)"
      ],
      "metadata": {
        "colab": {
          "base_uri": "https://localhost:8080/"
        },
        "id": "Ayuy-epIlCEW",
        "outputId": "16653930-10f2-4185-db23-eb1434646d62"
      },
      "execution_count": 47,
      "outputs": [
        {
          "output_type": "stream",
          "name": "stdout",
          "text": [
            "Dimensões do xtrain:  (60000, 28, 28)\n",
            "Dimensões do ytrain:  (60000,)\n",
            "Dimensões do xtest:  (10000, 28, 28)\n",
            "Dimensões do ytest:  (10000,)\n"
          ]
        }
      ]
    },
    {
      "cell_type": "code",
      "source": [
        "contagem_ytrain = tuple(zip(*np.unique(ytrain, return_counts=True)))\n",
        "contagem_ytrain"
      ],
      "metadata": {
        "colab": {
          "base_uri": "https://localhost:8080/"
        },
        "id": "Hiq5hxoTm6lS",
        "outputId": "1a2f389b-2b8f-41c8-bdce-df1fdd0d4172"
      },
      "execution_count": 48,
      "outputs": [
        {
          "output_type": "execute_result",
          "data": {
            "text/plain": [
              "((0, 6000),\n",
              " (1, 6000),\n",
              " (2, 6000),\n",
              " (3, 6000),\n",
              " (4, 6000),\n",
              " (5, 6000),\n",
              " (6, 6000),\n",
              " (7, 6000),\n",
              " (8, 6000),\n",
              " (9, 6000))"
            ]
          },
          "metadata": {},
          "execution_count": 48
        }
      ]
    },
    {
      "cell_type": "code",
      "source": [
        "contagem_ytest = tuple(zip(*np.unique(ytrain, return_counts=True)))\n",
        "contagem_ytest"
      ],
      "metadata": {
        "colab": {
          "base_uri": "https://localhost:8080/"
        },
        "id": "fjxUO5AanC1U",
        "outputId": "0811843e-fe57-4dd2-c018-f8c08e1bfcd6"
      },
      "execution_count": 49,
      "outputs": [
        {
          "output_type": "execute_result",
          "data": {
            "text/plain": [
              "((0, 6000),\n",
              " (1, 6000),\n",
              " (2, 6000),\n",
              " (3, 6000),\n",
              " (4, 6000),\n",
              " (5, 6000),\n",
              " (6, 6000),\n",
              " (7, 6000),\n",
              " (8, 6000),\n",
              " (9, 6000))"
            ]
          },
          "metadata": {},
          "execution_count": 49
        }
      ]
    },
    {
      "cell_type": "code",
      "source": [
        "fig, axs = plt.subplots(4, 5, figsize=(7, 5))\n",
        "for i, ax in enumerate(axs.flat):\n",
        "    ax.imshow(xtrain[i], cmap=\"gray\")\n",
        "    ax.set_title(f\"Target: {ytrain[i]}\")\n",
        "    ax.axis(\"off\")\n",
        "fig.subplots_adjust(hspace=0.6)\n",
        "plt.show()"
      ],
      "metadata": {
        "colab": {
          "base_uri": "https://localhost:8080/",
          "height": 444
        },
        "id": "EXNIinCTnJH9",
        "outputId": "174ec805-c7e0-495a-cf98-c1b2d621f94e"
      },
      "execution_count": 50,
      "outputs": [
        {
          "output_type": "display_data",
          "data": {
            "text/plain": [
              "<Figure size 700x500 with 20 Axes>"
            ],
            "image/png": "[encoded data removed]"
          },
          "metadata": {}
        }
      ]
    },
    {
      "cell_type": "markdown",
      "source": [
        "**Analisando a documentação temos os nomes das classes das imagens, representando o objeto da figura.**"
      ],
      "metadata": {
        "id": "5AJFGc274WaS"
      }
    },
    {
      "cell_type": "code",
      "source": [
        "classes = ['Camisetas/top', 'Calças', 'Suéteres', 'Vestidos', 'Casacos',\n",
        "               'Sandálias', 'Camisas', 'Tênis', 'Mochilas', 'Botas']"
      ],
      "metadata": {
        "id": "AeYiTrWf4ELu"
      },
      "execution_count": 51,
      "outputs": []
    },
    {
      "cell_type": "code",
      "source": [
        "fig, axs = plt.subplots(4, 5, figsize=(7, 5))\n",
        "for i, ax in enumerate(axs.flat):\n",
        "    ax.imshow(xtrain[i], cmap=\"gray\")\n",
        "    ax.set_title(classes[ytrain[i]], fontsize=10)                               # Colocando como título o índice dentro da variável \"classes\", que é dado pelo ytrain[i]\n",
        "    ax.axis(\"off\")\n",
        "fig.subplots_adjust(hspace=0.6)\n",
        "plt.show()"
      ],
      "metadata": {
        "colab": {
          "base_uri": "https://localhost:8080/",
          "height": 441
        },
        "id": "UwcBUBFe5kjP",
        "outputId": "ed4ae3e4-0408-44cc-99e9-942e0f8e19e9"
      },
      "execution_count": 52,
      "outputs": [
        {
          "output_type": "display_data",
          "data": {
            "text/plain": [
              "<Figure size 700x500 with 20 Axes>"
            ],
            "image/png": "[encoded data removed]"
          },
          "metadata": {}
        }
      ]
    },
    {
      "cell_type": "code",
      "source": [
        "xtrain_flatten = xtrain.reshape((xtrain.shape[0], -1))\n",
        "df_treino = pd.DataFrame(data=xtrain_flatten, columns=[f'pixel_{i}' for i in range(xtrain_flatten.shape[1])])\n",
        "df_treino['label'] = ytrain\n",
        "df_treino.head()"
      ],
      "metadata": {
        "colab": {
          "base_uri": "https://localhost:8080/",
          "height": 255
        },
        "id": "EOnluJKWTgas",
        "outputId": "a9353edb-065f-4839-f148-1b13cd11d7ff"
      },
      "execution_count": 53,
      "outputs": [
        {
          "output_type": "execute_result",
          "data": {
            "text/plain": [
              "   pixel_0  pixel_1  pixel_2  pixel_3  pixel_4  pixel_5  pixel_6  pixel_7  \\\n",
              "0        0        0        0        0        0        0        0        0   \n",
              "1        0        0        0        0        0        1        0        0   \n",
              "2        0        0        0        0        0        0        0        0   \n",
              "3        0        0        0        0        0        0        0        0   \n",
              "4        0        0        0        0        0        0        0        0   \n",
              "\n",
              "   pixel_8  pixel_9  ...  pixel_775  pixel_776  pixel_777  pixel_778  \\\n",
              "0        0        0  ...          0          0          0          0   \n",
              "1        0        0  ...        114        130         76          0   \n",
              "2        0       22  ...          0          1          0          0   \n",
              "3       33       96  ...          0          0          0          0   \n",
              "4        0        0  ...          0          0          0          0   \n",
              "\n",
              "   pixel_779  pixel_780  pixel_781  pixel_782  pixel_783  label  \n",
              "0          0          0          0          0          0      9  \n",
              "1          0          0          0          0          0      0  \n",
              "2          0          0          0          0          0      0  \n",
              "3          0          0          0          0          0      3  \n",
              "4          0          0          0          0          0      0  \n",
              "\n",
              "[5 rows x 785 columns]"
            ],
            "text/html": [
              "\n",
              "  <div id=\"df-77d94238-f291-4ba0-bcb9-1a0cde08c19c\" class=\"colab-df-container\">\n",
              "    <div>\n",
              "<style scoped>\n",
              "    .dataframe tbody tr th:only-of-type {\n",
              "        vertical-align: middle;\n",
              "    }\n",
              "\n",
              "    .dataframe tbody tr th {\n",
              "        vertical-align: top;\n",
              "    }\n",
              "\n",
              "    .dataframe thead th {\n",
              "        text-align: right;\n",
              "    }\n",
              "</style>\n",
              "<table border=\"1\" class=\"dataframe\">\n",
              "  <thead>\n",
              "    <tr style=\"text-align: right;\">\n",
              "      <th></th>\n",
              "      <th>pixel_0</th>\n",
              "      <th>pixel_1</th>\n",
              "      <th>pixel_2</th>\n",
              "      <th>pixel_3</th>\n",
              "      <th>pixel_4</th>\n",
              "      <th>pixel_5</th>\n",
              "      <th>pixel_6</th>\n",
              "      <th>pixel_7</th>\n",
              "      <th>pixel_8</th>\n",
              "      <th>pixel_9</th>\n",
              "      <th>...</th>\n",
              "      <th>pixel_775</th>\n",
              "      <th>pixel_776</th>\n",
              "      <th>pixel_777</th>\n",
              "      <th>pixel_778</th>\n",
              "      <th>pixel_779</th>\n",
              "      <th>pixel_780</th>\n",
              "      <th>pixel_781</th>\n",
              "      <th>pixel_782</th>\n",
              "      <th>pixel_783</th>\n",
              "      <th>label</th>\n",
              "    </tr>\n",
              "  </thead>\n",
              "  <tbody>\n",
              "    <tr>\n",
              "      <th>0</th>\n",
              "      <td>0</td>\n",
              "      <td>0</td>\n",
              "      <td>0</td>\n",
              "      <td>0</td>\n",
              "      <td>0</td>\n",
              "      <td>0</td>\n",
              "      <td>0</td>\n",
              "      <td>0</td>\n",
              "      <td>0</td>\n",
              "      <td>0</td>\n",
              "      <td>...</td>\n",
              "      <td>0</td>\n",
              "      <td>0</td>\n",
              "      <td>0</td>\n",
              "      <td>0</td>\n",
              "      <td>0</td>\n",
              "      <td>0</td>\n",
              "      <td>0</td>\n",
              "      <td>0</td>\n",
              "      <td>0</td>\n",
              "      <td>9</td>\n",
              "    </tr>\n",
              "    <tr>\n",
              "      <th>1</th>\n",
              "      <td>0</td>\n",
              "      <td>0</td>\n",
              "      <td>0</td>\n",
              "      <td>0</td>\n",
              "      <td>0</td>\n",
              "      <td>1</td>\n",
              "      <td>0</td>\n",
              "      <td>0</td>\n",
              "      <td>0</td>\n",
              "      <td>0</td>\n",
              "      <td>...</td>\n",
              "      <td>114</td>\n",
              "      <td>130</td>\n",
              "      <td>76</td>\n",
              "      <td>0</td>\n",
              "      <td>0</td>\n",
              "      <td>0</td>\n",
              "      <td>0</td>\n",
              "      <td>0</td>\n",
              "      <td>0</td>\n",
              "      <td>0</td>\n",
              "    </tr>\n",
              "    <tr>\n",
              "      <th>2</th>\n",
              "      <td>0</td>\n",
              "      <td>0</td>\n",
              "      <td>0</td>\n",
              "      <td>0</td>\n",
              "      <td>0</td>\n",
              "      <td>0</td>\n",
              "      <td>0</td>\n",
              "      <td>0</td>\n",
              "      <td>0</td>\n",
              "      <td>22</td>\n",
              "      <td>...</td>\n",
              "      <td>0</td>\n",
              "      <td>1</td>\n",
              "      <td>0</td>\n",
              "      <td>0</td>\n",
              "      <td>0</td>\n",
              "      <td>0</td>\n",
              "      <td>0</td>\n",
              "      <td>0</td>\n",
              "      <td>0</td>\n",
              "      <td>0</td>\n",
              "    </tr>\n",
              "    <tr>\n",
              "      <th>3</th>\n",
              "      <td>0</td>\n",
              "      <td>0</td>\n",
              "      <td>0</td>\n",
              "      <td>0</td>\n",
              "      <td>0</td>\n",
              "      <td>0</td>\n",
              "      <td>0</td>\n",
              "      <td>0</td>\n",
              "      <td>33</td>\n",
              "      <td>96</td>\n",
              "      <td>...</td>\n",
              "      <td>0</td>\n",
              "      <td>0</td>\n",
              "      <td>0</td>\n",
              "      <td>0</td>\n",
              "      <td>0</td>\n",
              "      <td>0</td>\n",
              "      <td>0</td>\n",
              "      <td>0</td>\n",
              "      <td>0</td>\n",
              "      <td>3</td>\n",
              "    </tr>\n",
              "    <tr>\n",
              "      <th>4</th>\n",
              "      <td>0</td>\n",
              "      <td>0</td>\n",
              "      <td>0</td>\n",
              "      <td>0</td>\n",
              "      <td>0</td>\n",
              "      <td>0</td>\n",
              "      <td>0</td>\n",
              "      <td>0</td>\n",
              "      <td>0</td>\n",
              "      <td>0</td>\n",
              "      <td>...</td>\n",
              "      <td>0</td>\n",
              "      <td>0</td>\n",
              "      <td>0</td>\n",
              "      <td>0</td>\n",
              "      <td>0</td>\n",
              "      <td>0</td>\n",
              "      <td>0</td>\n",
              "      <td>0</td>\n",
              "      <td>0</td>\n",
              "      <td>0</td>\n",
              "    </tr>\n",
              "  </tbody>\n",
              "</table>\n",
              "<p>5 rows × 785 columns</p>\n",
              "</div>\n",
              "    <div class=\"colab-df-buttons\">\n",
              "\n",
              "  <div class=\"colab-df-container\">\n",
              "    <button class=\"colab-df-convert\" onclick=\"convertToInteractive('df-77d94238-f291-4ba0-bcb9-1a0cde08c19c')\"\n",
              "            title=\"Convert this dataframe to an interactive table.\"\n",
              "            style=\"display:none;\">\n",
              "\n",
              "  <svg xmlns=\"http://www.w3.org/2000/svg\" height=\"24px\" viewBox=\"0 -960 960 960\">\n",
              "    <path d=\"M120-120v-720h720v720H120Zm60-500h600v-160H180v160Zm220 220h160v-160H400v160Zm0 220h160v-160H400v160ZM180-400h160v-160H180v160Zm440 0h160v-160H620v160ZM180-180h160v-160H180v160Zm440 0h160v-160H620v160Z\"/>\n",
              "  </svg>\n",
              "    </button>\n",
              "\n",
              "  <style>\n",
              "    .colab-df-container {\n",
              "      display:flex;\n",
              "      gap: 12px;\n",
              "    }\n",
              "\n",
              "    .colab-df-convert {\n",
              "      background-color: #E8F0FE;\n",
              "      border: none;\n",
              "      border-radius: 50%;\n",
              "      cursor: pointer;\n",
              "      display: none;\n",
              "      fill: #1967D2;\n",
              "      height: 32px;\n",
              "      padding: 0 0 0 0;\n",
              "      width: 32px;\n",
              "    }\n",
              "\n",
              "    .colab-df-convert:hover {\n",
              "      background-color: #E2EBFA;\n",
              "      box-shadow: 0px 1px 2px rgba(60, 64, 67, 0.3), 0px 1px 3px 1px rgba(60, 64, 67, 0.15);\n",
              "      fill: #174EA6;\n",
              "    }\n",
              "\n",
              "    .colab-df-buttons div {\n",
              "      margin-bottom: 4px;\n",
              "    }\n",
              "\n",
              "    [theme=dark] .colab-df-convert {\n",
              "      background-color: #3B4455;\n",
              "      fill: #D2E3FC;\n",
              "    }\n",
              "\n",
              "    [theme=dark] .colab-df-convert:hover {\n",
              "      background-color: #434B5C;\n",
              "      box-shadow: 0px 1px 3px 1px rgba(0, 0, 0, 0.15);\n",
              "      filter: drop-shadow(0px 1px 2px rgba(0, 0, 0, 0.3));\n",
              "      fill: #FFFFFF;\n",
              "    }\n",
              "  </style>\n",
              "\n",
              "    <script>\n",
              "      const buttonEl =\n",
              "        document.querySelector('#df-77d94238-f291-4ba0-bcb9-1a0cde08c19c button.colab-df-convert');\n",
              "      buttonEl.style.display =\n",
              "        google.colab.kernel.accessAllowed ? 'block' : 'none';\n",
              "\n",
              "      async function convertToInteractive(key) {\n",
              "        const element = document.querySelector('#df-77d94238-f291-4ba0-bcb9-1a0cde08c19c');\n",
              "        const dataTable =\n",
              "          await google.colab.kernel.invokeFunction('convertToInteractive',\n",
              "                                                    [key], {});\n",
              "        if (!dataTable) return;\n",
              "\n",
              "        const docLinkHtml = 'Like what you see? Visit the ' +\n",
              "          '<a target=\"_blank\" href=https://colab.research.google.com/notebooks/data_table.ipynb>data table notebook</a>'\n",
              "          + ' to learn more about interactive tables.';\n",
              "        element.innerHTML = '';\n",
              "        dataTable['output_type'] = 'display_data';\n",
              "        await google.colab.output.renderOutput(dataTable, element);\n",
              "        const docLink = document.createElement('div');\n",
              "        docLink.innerHTML = docLinkHtml;\n",
              "        element.appendChild(docLink);\n",
              "      }\n",
              "    </script>\n",
              "  </div>\n",
              "\n",
              "\n",
              "<div id=\"df-6f5e952f-5093-4bd8-9937-f896965a375d\">\n",
              "  <button class=\"colab-df-quickchart\" onclick=\"quickchart('df-6f5e952f-5093-4bd8-9937-f896965a375d')\"\n",
              "            title=\"Suggest charts\"\n",
              "            style=\"display:none;\">\n",
              "\n",
              "<svg xmlns=\"http://www.w3.org/2000/svg\" height=\"24px\"viewBox=\"0 0 24 24\"\n",
              "     width=\"24px\">\n",
              "    <g>\n",
              "        <path d=\"M19 3H5c-1.1 0-2 .9-2 2v14c0 1.1.9 2 2 2h14c1.1 0 2-.9 2-2V5c0-1.1-.9-2-2-2zM9 17H7v-7h2v7zm4 0h-2V7h2v10zm4 0h-2v-4h2v4z\"/>\n",
              "    </g>\n",
              "</svg>\n",
              "  </button>\n",
              "\n",
              "<style>\n",
              "  .colab-df-quickchart {\n",
              "      --bg-color: #E8F0FE;\n",
              "      --fill-color: #1967D2;\n",
              "      --hover-bg-color: #E2EBFA;\n",
              "      --hover-fill-color: #174EA6;\n",
              "      --disabled-fill-color: #AAA;\n",
              "      --disabled-bg-color: #DDD;\n",
              "  }\n",
              "\n",
              "  [theme=dark] .colab-df-quickchart {\n",
              "      --bg-color: #3B4455;\n",
              "      --fill-color: #D2E3FC;\n",
              "      --hover-bg-color: #434B5C;\n",
              "      --hover-fill-color: #FFFFFF;\n",
              "      --disabled-bg-color: #3B4455;\n",
              "      --disabled-fill-color: #666;\n",
              "  }\n",
              "\n",
              "  .colab-df-quickchart {\n",
              "    background-color: var(--bg-color);\n",
              "    border: none;\n",
              "    border-radius: 50%;\n",
              "    cursor: pointer;\n",
              "    display: none;\n",
              "    fill: var(--fill-color);\n",
              "    height: 32px;\n",
              "    padding: 0;\n",
              "    width: 32px;\n",
              "  }\n",
              "\n",
              "  .colab-df-quickchart:hover {\n",
              "    background-color: var(--hover-bg-color);\n",
              "    box-shadow: 0 1px 2px rgba(60, 64, 67, 0.3), 0 1px 3px 1px rgba(60, 64, 67, 0.15);\n",
              "    fill: var(--button-hover-fill-color);\n",
              "  }\n",
              "\n",
              "  .colab-df-quickchart-complete:disabled,\n",
              "  .colab-df-quickchart-complete:disabled:hover {\n",
              "    background-color: var(--disabled-bg-color);\n",
              "    fill: var(--disabled-fill-color);\n",
              "    box-shadow: none;\n",
              "  }\n",
              "\n",
              "  .colab-df-spinner {\n",
              "    border: 2px solid var(--fill-color);\n",
              "    border-color: transparent;\n",
              "    border-bottom-color: var(--fill-color);\n",
              "    animation:\n",
              "      spin 1s steps(1) infinite;\n",
              "  }\n",
              "\n",
              "  @keyframes spin {\n",
              "    0% {\n",
              "      border-color: transparent;\n",
              "      border-bottom-color: var(--fill-color);\n",
              "      border-left-color: var(--fill-color);\n",
              "    }\n",
              "    20% {\n",
              "      border-color: transparent;\n",
              "      border-left-color: var(--fill-color);\n",
              "      border-top-color: var(--fill-color);\n",
              "    }\n",
              "    30% {\n",
              "      border-color: transparent;\n",
              "      border-left-color: var(--fill-color);\n",
              "      border-top-color: var(--fill-color);\n",
              "      border-right-color: var(--fill-color);\n",
              "    }\n",
              "    40% {\n",
              "      border-color: transparent;\n",
              "      border-right-color: var(--fill-color);\n",
              "      border-top-color: var(--fill-color);\n",
              "    }\n",
              "    60% {\n",
              "      border-color: transparent;\n",
              "      border-right-color: var(--fill-color);\n",
              "    }\n",
              "    80% {\n",
              "      border-color: transparent;\n",
              "      border-right-color: var(--fill-color);\n",
              "      border-bottom-color: var(--fill-color);\n",
              "    }\n",
              "    90% {\n",
              "      border-color: transparent;\n",
              "      border-bottom-color: var(--fill-color);\n",
              "    }\n",
              "  }\n",
              "</style>\n",
              "\n",
              "  <script>\n",
              "    async function quickchart(key) {\n",
              "      const quickchartButtonEl =\n",
              "        document.querySelector('#' + key + ' button');\n",
              "      quickchartButtonEl.disabled = true;  // To prevent multiple clicks.\n",
              "      quickchartButtonEl.classList.add('colab-df-spinner');\n",
              "      try {\n",
              "        const charts = await google.colab.kernel.invokeFunction(\n",
              "            'suggestCharts', [key], {});\n",
              "      } catch (error) {\n",
              "        console.error('Error during call to suggestCharts:', error);\n",
              "      }\n",
              "      quickchartButtonEl.classList.remove('colab-df-spinner');\n",
              "      quickchartButtonEl.classList.add('colab-df-quickchart-complete');\n",
              "    }\n",
              "    (() => {\n",
              "      let quickchartButtonEl =\n",
              "        document.querySelector('#df-6f5e952f-5093-4bd8-9937-f896965a375d button');\n",
              "      quickchartButtonEl.style.display =\n",
              "        google.colab.kernel.accessAllowed ? 'block' : 'none';\n",
              "    })();\n",
              "  </script>\n",
              "</div>\n",
              "\n",
              "    </div>\n",
              "  </div>\n"
            ]
          },
          "metadata": {},
          "execution_count": 53
        }
      ]
    },
    {
      "cell_type": "markdown",
      "source": [
        "```\n",
        "classes = ['Camisetas/top', 'Calças', 'Suéteres', 'Vestidos', 'Casacos',\n",
        "               'Sandálias', 'Camisas', 'Tênis', 'Mochilas', 'Botas']\n",
        "```\n",
        "\n"
      ],
      "metadata": {
        "id": "RkNpad3CaVZz"
      }
    },
    {
      "cell_type": "code",
      "source": [
        "def classes_nomes(label):\n",
        "  nome = classes[label]\n",
        "  return nome\n",
        "\n",
        "df_treino['Classe'] = df_treino['label'].apply(classes_nomes)\n",
        "df_treino[['label','Classe']].head()"
      ],
      "metadata": {
        "colab": {
          "base_uri": "https://localhost:8080/",
          "height": 206
        },
        "id": "Bsbb1rsXY06n",
        "outputId": "d15aba64-d4b4-4272-d764-884ed2b2018a"
      },
      "execution_count": 54,
      "outputs": [
        {
          "output_type": "execute_result",
          "data": {
            "text/plain": [
              "   label         Classe\n",
              "0      9          Botas\n",
              "1      0  Camisetas/top\n",
              "2      0  Camisetas/top\n",
              "3      3       Vestidos\n",
              "4      0  Camisetas/top"
            ],
            "text/html": [
              "\n",
              "  <div id=\"df-d2cc5e2e-bdbd-45fb-8550-bc1b6f38b4b5\" class=\"colab-df-container\">\n",
              "    <div>\n",
              "<style scoped>\n",
              "    .dataframe tbody tr th:only-of-type {\n",
              "        vertical-align: middle;\n",
              "    }\n",
              "\n",
              "    .dataframe tbody tr th {\n",
              "        vertical-align: top;\n",
              "    }\n",
              "\n",
              "    .dataframe thead th {\n",
              "        text-align: right;\n",
              "    }\n",
              "</style>\n",
              "<table border=\"1\" class=\"dataframe\">\n",
              "  <thead>\n",
              "    <tr style=\"text-align: right;\">\n",
              "      <th></th>\n",
              "      <th>label</th>\n",
              "      <th>Classe</th>\n",
              "    </tr>\n",
              "  </thead>\n",
              "  <tbody>\n",
              "    <tr>\n",
              "      <th>0</th>\n",
              "      <td>9</td>\n",
              "      <td>Botas</td>\n",
              "    </tr>\n",
              "    <tr>\n",
              "      <th>1</th>\n",
              "      <td>0</td>\n",
              "      <td>Camisetas/top</td>\n",
              "    </tr>\n",
              "    <tr>\n",
              "      <th>2</th>\n",
              "      <td>0</td>\n",
              "      <td>Camisetas/top</td>\n",
              "    </tr>\n",
              "    <tr>\n",
              "      <th>3</th>\n",
              "      <td>3</td>\n",
              "      <td>Vestidos</td>\n",
              "    </tr>\n",
              "    <tr>\n",
              "      <th>4</th>\n",
              "      <td>0</td>\n",
              "      <td>Camisetas/top</td>\n",
              "    </tr>\n",
              "  </tbody>\n",
              "</table>\n",
              "</div>\n",
              "    <div class=\"colab-df-buttons\">\n",
              "\n",
              "  <div class=\"colab-df-container\">\n",
              "    <button class=\"colab-df-convert\" onclick=\"convertToInteractive('df-d2cc5e2e-bdbd-45fb-8550-bc1b6f38b4b5')\"\n",
              "            title=\"Convert this dataframe to an interactive table.\"\n",
              "            style=\"display:none;\">\n",
              "\n",
              "  <svg xmlns=\"http://www.w3.org/2000/svg\" height=\"24px\" viewBox=\"0 -960 960 960\">\n",
              "    <path d=\"M120-120v-720h720v720H120Zm60-500h600v-160H180v160Zm220 220h160v-160H400v160Zm0 220h160v-160H400v160ZM180-400h160v-160H180v160Zm440 0h160v-160H620v160ZM180-180h160v-160H180v160Zm440 0h160v-160H620v160Z\"/>\n",
              "  </svg>\n",
              "    </button>\n",
              "\n",
              "  <style>\n",
              "    .colab-df-container {\n",
              "      display:flex;\n",
              "      gap: 12px;\n",
              "    }\n",
              "\n",
              "    .colab-df-convert {\n",
              "      background-color: #E8F0FE;\n",
              "      border: none;\n",
              "      border-radius: 50%;\n",
              "      cursor: pointer;\n",
              "      display: none;\n",
              "      fill: #1967D2;\n",
              "      height: 32px;\n",
              "      padding: 0 0 0 0;\n",
              "      width: 32px;\n",
              "    }\n",
              "\n",
              "    .colab-df-convert:hover {\n",
              "      background-color: #E2EBFA;\n",
              "      box-shadow: 0px 1px 2px rgba(60, 64, 67, 0.3), 0px 1px 3px 1px rgba(60, 64, 67, 0.15);\n",
              "      fill: #174EA6;\n",
              "    }\n",
              "\n",
              "    .colab-df-buttons div {\n",
              "      margin-bottom: 4px;\n",
              "    }\n",
              "\n",
              "    [theme=dark] .colab-df-convert {\n",
              "      background-color: #3B4455;\n",
              "      fill: #D2E3FC;\n",
              "    }\n",
              "\n",
              "    [theme=dark] .colab-df-convert:hover {\n",
              "      background-color: #434B5C;\n",
              "      box-shadow: 0px 1px 3px 1px rgba(0, 0, 0, 0.15);\n",
              "      filter: drop-shadow(0px 1px 2px rgba(0, 0, 0, 0.3));\n",
              "      fill: #FFFFFF;\n",
              "    }\n",
              "  </style>\n",
              "\n",
              "    <script>\n",
              "      const buttonEl =\n",
              "        document.querySelector('#df-d2cc5e2e-bdbd-45fb-8550-bc1b6f38b4b5 button.colab-df-convert');\n",
              "      buttonEl.style.display =\n",
              "        google.colab.kernel.accessAllowed ? 'block' : 'none';\n",
              "\n",
              "      async function convertToInteractive(key) {\n",
              "        const element = document.querySelector('#df-d2cc5e2e-bdbd-45fb-8550-bc1b6f38b4b5');\n",
              "        const dataTable =\n",
              "          await google.colab.kernel.invokeFunction('convertToInteractive',\n",
              "                                                    [key], {});\n",
              "        if (!dataTable) return;\n",
              "\n",
              "        const docLinkHtml = 'Like what you see? Visit the ' +\n",
              "          '<a target=\"_blank\" href=https://colab.research.google.com/notebooks/data_table.ipynb>data table notebook</a>'\n",
              "          + ' to learn more about interactive tables.';\n",
              "        element.innerHTML = '';\n",
              "        dataTable['output_type'] = 'display_data';\n",
              "        await google.colab.output.renderOutput(dataTable, element);\n",
              "        const docLink = document.createElement('div');\n",
              "        docLink.innerHTML = docLinkHtml;\n",
              "        element.appendChild(docLink);\n",
              "      }\n",
              "    </script>\n",
              "  </div>\n",
              "\n",
              "\n",
              "<div id=\"df-df7cf753-8a14-4df3-8272-0ac9bc756d1a\">\n",
              "  <button class=\"colab-df-quickchart\" onclick=\"quickchart('df-df7cf753-8a14-4df3-8272-0ac9bc756d1a')\"\n",
              "            title=\"Suggest charts\"\n",
              "            style=\"display:none;\">\n",
              "\n",
              "<svg xmlns=\"http://www.w3.org/2000/svg\" height=\"24px\"viewBox=\"0 0 24 24\"\n",
              "     width=\"24px\">\n",
              "    <g>\n",
              "        <path d=\"M19 3H5c-1.1 0-2 .9-2 2v14c0 1.1.9 2 2 2h14c1.1 0 2-.9 2-2V5c0-1.1-.9-2-2-2zM9 17H7v-7h2v7zm4 0h-2V7h2v10zm4 0h-2v-4h2v4z\"/>\n",
              "    </g>\n",
              "</svg>\n",
              "  </button>\n",
              "\n",
              "<style>\n",
              "  .colab-df-quickchart {\n",
              "      --bg-color: #E8F0FE;\n",
              "      --fill-color: #1967D2;\n",
              "      --hover-bg-color: #E2EBFA;\n",
              "      --hover-fill-color: #174EA6;\n",
              "      --disabled-fill-color: #AAA;\n",
              "      --disabled-bg-color: #DDD;\n",
              "  }\n",
              "\n",
              "  [theme=dark] .colab-df-quickchart {\n",
              "      --bg-color: #3B4455;\n",
              "      --fill-color: #D2E3FC;\n",
              "      --hover-bg-color: #434B5C;\n",
              "      --hover-fill-color: #FFFFFF;\n",
              "      --disabled-bg-color: #3B4455;\n",
              "      --disabled-fill-color: #666;\n",
              "  }\n",
              "\n",
              "  .colab-df-quickchart {\n",
              "    background-color: var(--bg-color);\n",
              "    border: none;\n",
              "    border-radius: 50%;\n",
              "    cursor: pointer;\n",
              "    display: none;\n",
              "    fill: var(--fill-color);\n",
              "    height: 32px;\n",
              "    padding: 0;\n",
              "    width: 32px;\n",
              "  }\n",
              "\n",
              "  .colab-df-quickchart:hover {\n",
              "    background-color: var(--hover-bg-color);\n",
              "    box-shadow: 0 1px 2px rgba(60, 64, 67, 0.3), 0 1px 3px 1px rgba(60, 64, 67, 0.15);\n",
              "    fill: var(--button-hover-fill-color);\n",
              "  }\n",
              "\n",
              "  .colab-df-quickchart-complete:disabled,\n",
              "  .colab-df-quickchart-complete:disabled:hover {\n",
              "    background-color: var(--disabled-bg-color);\n",
              "    fill: var(--disabled-fill-color);\n",
              "    box-shadow: none;\n",
              "  }\n",
              "\n",
              "  .colab-df-spinner {\n",
              "    border: 2px solid var(--fill-color);\n",
              "    border-color: transparent;\n",
              "    border-bottom-color: var(--fill-color);\n",
              "    animation:\n",
              "      spin 1s steps(1) infinite;\n",
              "  }\n",
              "\n",
              "  @keyframes spin {\n",
              "    0% {\n",
              "      border-color: transparent;\n",
              "      border-bottom-color: var(--fill-color);\n",
              "      border-left-color: var(--fill-color);\n",
              "    }\n",
              "    20% {\n",
              "      border-color: transparent;\n",
              "      border-left-color: var(--fill-color);\n",
              "      border-top-color: var(--fill-color);\n",
              "    }\n",
              "    30% {\n",
              "      border-color: transparent;\n",
              "      border-left-color: var(--fill-color);\n",
              "      border-top-color: var(--fill-color);\n",
              "      border-right-color: var(--fill-color);\n",
              "    }\n",
              "    40% {\n",
              "      border-color: transparent;\n",
              "      border-right-color: var(--fill-color);\n",
              "      border-top-color: var(--fill-color);\n",
              "    }\n",
              "    60% {\n",
              "      border-color: transparent;\n",
              "      border-right-color: var(--fill-color);\n",
              "    }\n",
              "    80% {\n",
              "      border-color: transparent;\n",
              "      border-right-color: var(--fill-color);\n",
              "      border-bottom-color: var(--fill-color);\n",
              "    }\n",
              "    90% {\n",
              "      border-color: transparent;\n",
              "      border-bottom-color: var(--fill-color);\n",
              "    }\n",
              "  }\n",
              "</style>\n",
              "\n",
              "  <script>\n",
              "    async function quickchart(key) {\n",
              "      const quickchartButtonEl =\n",
              "        document.querySelector('#' + key + ' button');\n",
              "      quickchartButtonEl.disabled = true;  // To prevent multiple clicks.\n",
              "      quickchartButtonEl.classList.add('colab-df-spinner');\n",
              "      try {\n",
              "        const charts = await google.colab.kernel.invokeFunction(\n",
              "            'suggestCharts', [key], {});\n",
              "      } catch (error) {\n",
              "        console.error('Error during call to suggestCharts:', error);\n",
              "      }\n",
              "      quickchartButtonEl.classList.remove('colab-df-spinner');\n",
              "      quickchartButtonEl.classList.add('colab-df-quickchart-complete');\n",
              "    }\n",
              "    (() => {\n",
              "      let quickchartButtonEl =\n",
              "        document.querySelector('#df-df7cf753-8a14-4df3-8272-0ac9bc756d1a button');\n",
              "      quickchartButtonEl.style.display =\n",
              "        google.colab.kernel.accessAllowed ? 'block' : 'none';\n",
              "    })();\n",
              "  </script>\n",
              "</div>\n",
              "\n",
              "    </div>\n",
              "  </div>\n"
            ]
          },
          "metadata": {},
          "execution_count": 54
        }
      ]
    },
    {
      "cell_type": "code",
      "source": [
        "df_camisetas_pixels = {'pixel':[],'min':[],'max':[],'mean':[],'std':[]}\n",
        "df_camisetas = pd.DataFrame(df_camisetas_pixels)\n",
        "\n",
        "df_calcas_pixels = {'pixel':[],'min':[],'max':[],'mean':[],'std':[]}\n",
        "df_calcas = pd.DataFrame(df_calcas_pixels)\n",
        "\n",
        "df_sueteres_pixels = {'pixel':[],'min':[],'max':[],'mean':[],'std':[]}\n",
        "df_sueteres = pd.DataFrame(df_sueteres_pixels)\n",
        "\n",
        "df_vestidos_pixels = {'pixel':[],'min':[],'max':[],'mean':[],'std':[]}\n",
        "df_vestidos = pd.DataFrame(df_vestidos_pixels)\n",
        "\n",
        "df_casacos_pixels = {'pixel':[],'min':[],'max':[],'mean':[],'std':[]}\n",
        "df_casacos = pd.DataFrame(df_casacos_pixels)\n",
        "\n",
        "df_sandalias_pixels = {'pixel':[],'min':[],'max':[],'mean':[],'std':[]}\n",
        "df_sandalias = pd.DataFrame(df_sandalias_pixels)\n",
        "\n",
        "df_tenis_pixels = {'pixel':[],'min':[],'max':[],'mean':[],'std':[]}\n",
        "df_tenis = pd.DataFrame(df_tenis_pixels)\n",
        "\n",
        "df_mochilas_pixels = {'pixel':[],'min':[],'max':[],'mean':[],'std':[]}\n",
        "df_mochilas = pd.DataFrame(df_mochilas_pixels)\n",
        "\n",
        "df_botas_pixels = {'pixel':[],'min':[],'max':[],'mean':[],'std':[]}\n",
        "df_botas = pd.DataFrame(df_botas_pixels)\n",
        "\n",
        "df_camisas_pixels = {'pixel':[],'min':[],'max':[],'mean':[],'std':[]}\n",
        "df_camisas = pd.DataFrame(df_camisas_pixels)\n",
        "\n",
        "for coluna in df_treino.columns:\n",
        "  if coluna != 'Classe':\n",
        "    abc = pd.DataFrame(df_treino.groupby('Classe')[coluna].agg(['mean','min','max','std'])).reset_index()\n",
        "\n",
        "    df_camiseta = abc.loc[abc['Classe'] == 'Camisetas/top']\n",
        "    df_camisetas_pixels['pixel'] = coluna\n",
        "    df_camisetas_pixels['min'] = df_camiseta['min']\n",
        "    df_camisetas_pixels['max'] = df_camiseta['max']\n",
        "    df_camisetas_pixels['mean'] = df_camiseta['mean']\n",
        "    df_camisetas_pixels['std'] = df_camiseta['std']\n",
        "    nova_linha = pd.DataFrame(df_camisetas_pixels)\n",
        "    df_camisetas = pd.concat([df_camisetas, nova_linha], ignore_index=True)\n",
        "\n",
        "\n",
        "    df_calca = abc.loc[abc['Classe'] == 'Calças']\n",
        "    df_calcas_pixels['pixel'] = coluna\n",
        "    df_calcas_pixels['min'] = df_calca['min']\n",
        "    df_calcas_pixels['max'] = df_calca['max']\n",
        "    df_calcas_pixels['mean'] = df_calca['mean']\n",
        "    df_calcas_pixels['std'] = df_calca['std']\n",
        "    nova_linha = pd.DataFrame(df_calcas_pixels)\n",
        "    df_calcas = pd.concat([df_calcas, nova_linha], ignore_index=True)\n",
        "\n",
        "\n",
        "    df_sueter = abc.loc[abc['Classe'] == 'Suéteres']\n",
        "    df_sueteres_pixels['pixel'] = coluna\n",
        "    df_sueteres_pixels['min'] = df_sueter['min']\n",
        "    df_sueteres_pixels['max'] = df_sueter['max']\n",
        "    df_sueteres_pixels['mean'] = df_sueter['mean']\n",
        "    df_sueteres_pixels['std'] = df_sueter['std']\n",
        "    nova_linha = pd.DataFrame(df_sueteres_pixels)\n",
        "    df_sueteres = pd.concat([df_sueteres, nova_linha], ignore_index=True)\n",
        "\n",
        "\n",
        "    df_casaco = abc.loc[abc['Classe'] == 'Casacos']\n",
        "    df_casacos_pixels['pixel'] = coluna\n",
        "    df_casacos_pixels['min'] = df_casaco['min']\n",
        "    df_casacos_pixels['max'] = df_casaco['max']\n",
        "    df_casacos_pixels['mean'] = df_casaco['mean']\n",
        "    df_casacos_pixels['std'] = df_casaco['std']\n",
        "    nova_linha = pd.DataFrame(df_casacos_pixels)\n",
        "    df_casacos = pd.concat([df_casacos, nova_linha], ignore_index=True)\n",
        "\n",
        "\n",
        "    df_vestido = abc.loc[abc['Classe'] == 'Vestidos']\n",
        "    df_vestidos_pixels['pixel'] = coluna\n",
        "    df_vestidos_pixels['min'] = df_vestido['min']\n",
        "    df_vestidos_pixels['max'] = df_vestido['max']\n",
        "    df_vestidos_pixels['mean'] = df_vestido['mean']\n",
        "    df_vestidos_pixels['std'] = df_vestido['std']\n",
        "    nova_linha = pd.DataFrame(df_vestidos_pixels)\n",
        "    df_vestidos = pd.concat([df_vestidos, nova_linha], ignore_index=True)\n",
        "\n",
        "\n",
        "    df_sandalia = abc.loc[abc['Classe'] == 'Sandálias']\n",
        "    df_sandalias_pixels['pixel'] = coluna\n",
        "    df_sandalias_pixels['min'] = df_sandalia['min']\n",
        "    df_sandalias_pixels['max'] = df_sandalia['max']\n",
        "    df_sandalias_pixels['mean'] = df_sandalia['mean']\n",
        "    df_sandalias_pixels['std'] = df_sandalia['std']\n",
        "    nova_linha = pd.DataFrame(df_sandalias_pixels)\n",
        "    df_sandalias = pd.concat([df_sandalias, nova_linha], ignore_index=True)\n",
        "\n",
        "\n",
        "    df_tenis_b = abc.loc[abc['Classe'] == 'Tênis']\n",
        "    df_tenis_pixels['pixel'] = coluna\n",
        "    df_tenis_pixels['min'] = df_tenis_b['min']\n",
        "    df_tenis_pixels['max'] = df_tenis_b['max']\n",
        "    df_tenis_pixels['mean'] = df_tenis_b['mean']\n",
        "    df_tenis_pixels['std'] = df_tenis_b['std']\n",
        "    nova_linha = pd.DataFrame(df_tenis_pixels)\n",
        "    df_tenis = pd.concat([df_tenis, nova_linha], ignore_index=True)\n",
        "\n",
        "\n",
        "    df_mochila = abc.loc[abc['Classe'] == 'Mochilas']\n",
        "    df_mochilas_pixels['pixel'] = coluna\n",
        "    df_mochilas_pixels['min'] = df_mochila['min']\n",
        "    df_mochilas_pixels['max'] = df_mochila['max']\n",
        "    df_mochilas_pixels['mean'] = df_mochila['mean']\n",
        "    df_mochilas_pixels['std'] = df_mochila['std']\n",
        "    nova_linha = pd.DataFrame(df_mochilas_pixels)\n",
        "    df_mochilas = pd.concat([df_mochilas, nova_linha], ignore_index=True)\n",
        "\n",
        "\n",
        "    df_bota = abc.loc[abc['Classe'] == 'Botas']\n",
        "    df_botas_pixels['pixel'] = coluna\n",
        "    df_botas_pixels['min'] = df_bota['min']\n",
        "    df_botas_pixels['max'] = df_bota['max']\n",
        "    df_botas_pixels['mean'] = df_bota['mean']\n",
        "    df_botas_pixels['std'] = df_bota['std']\n",
        "    nova_linha = pd.DataFrame(df_botas_pixels)\n",
        "    df_botas = pd.concat([df_botas, nova_linha], ignore_index=True)\n",
        "\n",
        "\n",
        "    df_camisa = abc.loc[abc['Classe'] == 'Botas']\n",
        "    df_camisas_pixels['pixel'] = coluna\n",
        "    df_camisas_pixels['min'] = df_camisa['min']\n",
        "    df_camisas_pixels['max'] = df_camisa['max']\n",
        "    df_camisas_pixels['mean'] = df_camisa['mean']\n",
        "    df_camisas_pixels['std'] = df_camisa['std']\n",
        "    nova_linha = pd.DataFrame(df_camisas_pixels)\n",
        "    df_camisas = pd.concat([df_camisas, nova_linha], ignore_index=True)"
      ],
      "metadata": {
        "id": "d4uVF-hla8oD"
      },
      "execution_count": 55,
      "outputs": []
    },
    {
      "cell_type": "markdown",
      "source": [
        "# **Análises com números:**"
      ],
      "metadata": {
        "id": "u6IVV2zvbwSH"
      }
    },
    {
      "cell_type": "code",
      "source": [
        "bases = [df_camisetas, df_calcas, df_sueteres, df_vestidos, df_casacos, df_sandalias, df_camisas, df_tenis, df_mochilas, df_botas]\n",
        "\n",
        "for i,base in enumerate(bases):\n",
        "  print(f'Na base {classes[i]} temos essa média de valor de pixels:')\n",
        "  print(round(base['mean'].mean(),2))\n",
        "  print(' ')\n"
      ],
      "metadata": {
        "colab": {
          "base_uri": "https://localhost:8080/"
        },
        "id": "FpRw_LK0n816",
        "outputId": "fa55ad86-e07d-4df8-cdbd-5d96de187c65"
      },
      "execution_count": 56,
      "outputs": [
        {
          "output_type": "stream",
          "name": "stdout",
          "text": [
            "Na base Camisetas/top temos essa média de valor de pixels:\n",
            "82.92\n",
            " \n",
            "Na base Calças temos essa média de valor de pixels:\n",
            "56.77\n",
            " \n",
            "Na base Suéteres temos essa média de valor de pixels:\n",
            "95.94\n",
            " \n",
            "Na base Vestidos temos essa média de valor de pixels:\n",
            "65.94\n",
            " \n",
            "Na base Casacos temos essa média de valor de pixels:\n",
            "98.14\n",
            " \n",
            "Na base Sandálias temos essa média de valor de pixels:\n",
            "34.83\n",
            " \n",
            "Na base Camisas temos essa média de valor de pixels:\n",
            "76.72\n",
            " \n",
            "Na base Tênis temos essa média de valor de pixels:\n",
            "42.72\n",
            " \n",
            "Na base Mochilas temos essa média de valor de pixels:\n",
            "90.05\n",
            " \n",
            "Na base Botas temos essa média de valor de pixels:\n",
            "76.72\n",
            " \n"
          ]
        }
      ]
    },
    {
      "cell_type": "markdown",
      "source": [
        "Analisando os resultados acima, podemos ver que calçados costumam pegar menos pixels em média. Porém, isso não pode ser o fator determinando de algo, é apenas uma observação.\n",
        "\n",
        "A seguir, veremos mais dados relacionados."
      ],
      "metadata": {
        "id": "4wKAh9IBbV9d"
      }
    },
    {
      "cell_type": "markdown",
      "source": [
        "### **Explicação sobre os códigos abaixo**\n",
        "- As imagens são 28x28\n",
        "- No Dataframe há 784 linhas, ou seja 28x28\n",
        "- Esses pixel foram registrados na base em sequencia, como se fossemos colocando 28 linhas em baixo de 28 linhas, até totalizar as 784\n",
        "- Ou seja, se fizermos contas de 28 em 28, conseguimos pegar os pixels das bordas da imagem, da parte de baixo, de cima e assim por diante\n",
        "- Isso é interessante para analisar algumas características das classes de imagens\n",
        "\n",
        "\n",
        "\n",
        "Importante ressaltar que isso pode sim ajudar em entender os modelos, porém não é apenas isso. Por exemplo: No caso dos calçados a grande maioria dos pixels de cima estão próximos de 0. Porém e se o modelo estiver em produção e receber uma imagem na qual a imagem do calçado estiver mais acima? Ele classificará corretamente? Por isso mais tarde utilizarei modelos de Deep Learning, explorando recursos que irão nos ajudar."
      ],
      "metadata": {
        "id": "VjmX5G-DMrp-"
      }
    },
    {
      "cell_type": "markdown",
      "source": [
        "### **Pixels das partes do meio para baixo das imagens**"
      ],
      "metadata": {
        "id": "hG3dcoRsNvpb"
      }
    },
    {
      "cell_type": "code",
      "source": [
        "numeros1 = np.linspace(28,784,28)\n",
        "intervalo1 = []\n",
        "intervalo2 = []\n",
        "\n",
        "for numero in numeros1:\n",
        "  intervalo1.append(int(numero - 14))\n",
        "  intervalo2.append(int(numero))\n",
        "\n",
        "for a,base in enumerate(bases):\n",
        "  print(' ')\n",
        "  print(' ')\n",
        "  print(' ')\n",
        "  print('Base: ',classes[a])\n",
        "  print(' ')\n",
        "  for i in range(28):\n",
        "    print(f\"Pixels: {intervalo1[0+i]} até {intervalo2[0+i]-1} ----- Média dos pixels: \", round(base.iloc[intervalo1[0+i]:intervalo2[0+i]]['mean'].mean(),1))"
      ],
      "metadata": {
        "colab": {
          "base_uri": "https://localhost:8080/"
        },
        "id": "15NEP171J-7G",
        "outputId": "26cb8414-efb5-46c4-9e94-4327ce51acb4"
      },
      "execution_count": 57,
      "outputs": [
        {
          "output_type": "stream",
          "name": "stdout",
          "text": [
            " \n",
            " \n",
            " \n",
            "Base:  Camisetas/top\n",
            " \n",
            "Pixels: 14 até 27 ----- Média dos pixels:  24.7\n",
            "Pixels: 42 até 55 ----- Média dos pixels:  76.1\n",
            "Pixels: 70 até 83 ----- Média dos pixels:  88.8\n",
            "Pixels: 98 até 111 ----- Média dos pixels:  95.2\n",
            "Pixels: 126 até 139 ----- Média dos pixels:  100.0\n",
            "Pixels: 154 até 167 ----- Média dos pixels:  103.1\n",
            "Pixels: 182 até 195 ----- Média dos pixels:  105.8\n",
            "Pixels: 210 até 223 ----- Média dos pixels:  108.1\n",
            "Pixels: 238 até 251 ----- Média dos pixels:  109.8\n",
            "Pixels: 266 até 279 ----- Média dos pixels:  109.3\n",
            "Pixels: 294 até 307 ----- Média dos pixels:  103.3\n",
            "Pixels: 322 até 335 ----- Média dos pixels:  91.6\n",
            "Pixels: 350 até 363 ----- Média dos pixels:  82.7\n",
            "Pixels: 378 até 391 ----- Média dos pixels:  79.2\n",
            "Pixels: 406 até 419 ----- Média dos pixels:  77.9\n",
            "Pixels: 434 até 447 ----- Média dos pixels:  78.0\n",
            "Pixels: 462 até 475 ----- Média dos pixels:  77.9\n",
            "Pixels: 490 até 503 ----- Média dos pixels:  78.6\n",
            "Pixels: 518 até 531 ----- Média dos pixels:  79.3\n",
            "Pixels: 546 até 559 ----- Média dos pixels:  80.3\n",
            "Pixels: 574 até 587 ----- Média dos pixels:  81.3\n",
            "Pixels: 602 até 615 ----- Média dos pixels:  82.2\n",
            "Pixels: 630 até 643 ----- Média dos pixels:  82.9\n",
            "Pixels: 658 até 671 ----- Média dos pixels:  83.5\n",
            "Pixels: 686 até 699 ----- Média dos pixels:  83.5\n",
            "Pixels: 714 até 727 ----- Média dos pixels:  82.3\n",
            "Pixels: 742 até 755 ----- Média dos pixels:  88.9\n",
            "Pixels: 770 até 783 ----- Média dos pixels:  50.0\n",
            " \n",
            " \n",
            " \n",
            "Base:  Calças\n",
            " \n",
            "Pixels: 14 até 27 ----- Média dos pixels:  43.3\n",
            "Pixels: 42 até 55 ----- Média dos pixels:  74.0\n",
            "Pixels: 70 até 83 ----- Média dos pixels:  70.2\n",
            "Pixels: 98 até 111 ----- Média dos pixels:  73.1\n",
            "Pixels: 126 até 139 ----- Média dos pixels:  74.5\n",
            "Pixels: 154 até 167 ----- Média dos pixels:  75.8\n",
            "Pixels: 182 até 195 ----- Média dos pixels:  76.4\n",
            "Pixels: 210 até 223 ----- Média dos pixels:  75.6\n",
            "Pixels: 238 até 251 ----- Média dos pixels:  72.4\n",
            "Pixels: 266 até 279 ----- Média dos pixels:  68.8\n",
            "Pixels: 294 até 307 ----- Média dos pixels:  65.7\n",
            "Pixels: 322 até 335 ----- Média dos pixels:  62.8\n",
            "Pixels: 350 até 363 ----- Média dos pixels:  60.2\n",
            "Pixels: 378 até 391 ----- Média dos pixels:  57.7\n",
            "Pixels: 406 até 419 ----- Média dos pixels:  55.7\n",
            "Pixels: 434 até 447 ----- Média dos pixels:  54.0\n",
            "Pixels: 462 até 475 ----- Média dos pixels:  52.6\n",
            "Pixels: 490 até 503 ----- Média dos pixels:  51.8\n",
            "Pixels: 518 até 531 ----- Média dos pixels:  51.5\n",
            "Pixels: 546 até 559 ----- Média dos pixels:  51.4\n",
            "Pixels: 574 até 587 ----- Média dos pixels:  51.2\n",
            "Pixels: 602 até 615 ----- Média dos pixels:  50.6\n",
            "Pixels: 630 até 643 ----- Média dos pixels:  49.7\n",
            "Pixels: 658 até 671 ----- Média dos pixels:  48.6\n",
            "Pixels: 686 até 699 ----- Média dos pixels:  47.6\n",
            "Pixels: 714 até 727 ----- Média dos pixels:  45.9\n",
            "Pixels: 742 até 755 ----- Média dos pixels:  47.6\n",
            "Pixels: 770 até 783 ----- Média dos pixels:  28.0\n",
            " \n",
            " \n",
            " \n",
            "Base:  Suéteres\n",
            " \n",
            "Pixels: 14 até 27 ----- Média dos pixels:  26.7\n",
            "Pixels: 42 até 55 ----- Média dos pixels:  75.0\n",
            "Pixels: 70 até 83 ----- Média dos pixels:  82.9\n",
            "Pixels: 98 até 111 ----- Média dos pixels:  89.4\n",
            "Pixels: 126 até 139 ----- Média dos pixels:  95.2\n",
            "Pixels: 154 até 167 ----- Média dos pixels:  99.2\n",
            "Pixels: 182 até 195 ----- Média dos pixels:  101.1\n",
            "Pixels: 210 até 223 ----- Média dos pixels:  103.8\n",
            "Pixels: 238 até 251 ----- Média dos pixels:  107.0\n",
            "Pixels: 266 até 279 ----- Média dos pixels:  108.9\n",
            "Pixels: 294 até 307 ----- Média dos pixels:  110.4\n",
            "Pixels: 322 até 335 ----- Média dos pixels:  111.4\n",
            "Pixels: 350 até 363 ----- Média dos pixels:  111.9\n",
            "Pixels: 378 até 391 ----- Média dos pixels:  112.5\n",
            "Pixels: 406 até 419 ----- Média dos pixels:  113.2\n",
            "Pixels: 434 até 447 ----- Média dos pixels:  113.7\n",
            "Pixels: 462 até 475 ----- Média dos pixels:  114.2\n",
            "Pixels: 490 até 503 ----- Média dos pixels:  114.6\n",
            "Pixels: 518 até 531 ----- Média dos pixels:  114.5\n",
            "Pixels: 546 até 559 ----- Média dos pixels:  114.4\n",
            "Pixels: 574 até 587 ----- Média dos pixels:  114.1\n",
            "Pixels: 602 até 615 ----- Média dos pixels:  113.1\n",
            "Pixels: 630 até 643 ----- Média dos pixels:  110.6\n",
            "Pixels: 658 até 671 ----- Média dos pixels:  105.4\n",
            "Pixels: 686 até 699 ----- Média dos pixels:  95.1\n",
            "Pixels: 714 até 727 ----- Média dos pixels:  79.5\n",
            "Pixels: 742 até 755 ----- Média dos pixels:  61.8\n",
            "Pixels: 770 até 783 ----- Média dos pixels:  26.9\n",
            " \n",
            " \n",
            " \n",
            "Base:  Vestidos\n",
            " \n",
            "Pixels: 14 até 27 ----- Média dos pixels:  20.2\n",
            "Pixels: 42 até 55 ----- Média dos pixels:  57.0\n",
            "Pixels: 70 até 83 ----- Média dos pixels:  61.8\n",
            "Pixels: 98 até 111 ----- Média dos pixels:  65.6\n",
            "Pixels: 126 até 139 ----- Média dos pixels:  68.6\n",
            "Pixels: 154 até 167 ----- Média dos pixels:  70.3\n",
            "Pixels: 182 até 195 ----- Média dos pixels:  70.8\n",
            "Pixels: 210 até 223 ----- Média dos pixels:  70.1\n",
            "Pixels: 238 até 251 ----- Média dos pixels:  68.5\n",
            "Pixels: 266 até 279 ----- Média dos pixels:  67.5\n",
            "Pixels: 294 até 307 ----- Média dos pixels:  67.5\n",
            "Pixels: 322 até 335 ----- Média dos pixels:  68.3\n",
            "Pixels: 350 até 363 ----- Média dos pixels:  70.0\n",
            "Pixels: 378 até 391 ----- Média dos pixels:  71.5\n",
            "Pixels: 406 até 419 ----- Média dos pixels:  72.6\n",
            "Pixels: 434 até 447 ----- Média dos pixels:  73.3\n",
            "Pixels: 462 até 475 ----- Média dos pixels:  73.8\n",
            "Pixels: 490 até 503 ----- Média dos pixels:  74.5\n",
            "Pixels: 518 até 531 ----- Média dos pixels:  75.1\n",
            "Pixels: 546 até 559 ----- Média dos pixels:  75.1\n",
            "Pixels: 574 até 587 ----- Média dos pixels:  74.7\n",
            "Pixels: 602 até 615 ----- Média dos pixels:  74.4\n",
            "Pixels: 630 até 643 ----- Média dos pixels:  74.6\n",
            "Pixels: 658 até 671 ----- Média dos pixels:  74.9\n",
            "Pixels: 686 até 699 ----- Média dos pixels:  75.2\n",
            "Pixels: 714 até 727 ----- Média dos pixels:  74.9\n",
            "Pixels: 742 até 755 ----- Média dos pixels:  77.8\n",
            "Pixels: 770 até 783 ----- Média dos pixels:  39.4\n",
            " \n",
            " \n",
            " \n",
            "Base:  Casacos\n",
            " \n",
            "Pixels: 14 até 27 ----- Média dos pixels:  25.8\n",
            "Pixels: 42 até 55 ----- Média dos pixels:  57.8\n",
            "Pixels: 70 até 83 ----- Média dos pixels:  69.1\n",
            "Pixels: 98 até 111 ----- Média dos pixels:  82.5\n",
            "Pixels: 126 até 139 ----- Média dos pixels:  92.5\n",
            "Pixels: 154 até 167 ----- Média dos pixels:  99.1\n",
            "Pixels: 182 até 195 ----- Média dos pixels:  103.0\n",
            "Pixels: 210 até 223 ----- Média dos pixels:  105.8\n",
            "Pixels: 238 até 251 ----- Média dos pixels:  108.4\n",
            "Pixels: 266 até 279 ----- Média dos pixels:  111.2\n",
            "Pixels: 294 até 307 ----- Média dos pixels:  113.9\n",
            "Pixels: 322 até 335 ----- Média dos pixels:  116.1\n",
            "Pixels: 350 até 363 ----- Média dos pixels:  117.7\n",
            "Pixels: 378 até 391 ----- Média dos pixels:  118.8\n",
            "Pixels: 406 até 419 ----- Média dos pixels:  120.0\n",
            "Pixels: 434 até 447 ----- Média dos pixels:  120.8\n",
            "Pixels: 462 até 475 ----- Média dos pixels:  121.6\n",
            "Pixels: 490 até 503 ----- Média dos pixels:  122.1\n",
            "Pixels: 518 até 531 ----- Média dos pixels:  122.4\n",
            "Pixels: 546 até 559 ----- Média dos pixels:  122.6\n",
            "Pixels: 574 até 587 ----- Média dos pixels:  121.7\n",
            "Pixels: 602 até 615 ----- Média dos pixels:  119.3\n",
            "Pixels: 630 até 643 ----- Média dos pixels:  115.4\n",
            "Pixels: 658 até 671 ----- Média dos pixels:  109.7\n",
            "Pixels: 686 até 699 ----- Média dos pixels:  100.9\n",
            "Pixels: 714 até 727 ----- Média dos pixels:  85.9\n",
            "Pixels: 742 até 755 ----- Média dos pixels:  71.0\n",
            "Pixels: 770 até 783 ----- Média dos pixels:  30.2\n",
            " \n",
            " \n",
            " \n",
            "Base:  Sandálias\n",
            " \n",
            "Pixels: 14 até 27 ----- Média dos pixels:  0.9\n",
            "Pixels: 42 até 55 ----- Média dos pixels:  3.9\n",
            "Pixels: 70 até 83 ----- Média dos pixels:  8.5\n",
            "Pixels: 98 até 111 ----- Média dos pixels:  13.6\n",
            "Pixels: 126 até 139 ----- Média dos pixels:  18.4\n",
            "Pixels: 154 até 167 ----- Média dos pixels:  23.3\n",
            "Pixels: 182 até 195 ----- Média dos pixels:  28.6\n",
            "Pixels: 210 até 223 ----- Média dos pixels:  35.0\n",
            "Pixels: 238 até 251 ----- Média dos pixels:  43.7\n",
            "Pixels: 266 até 279 ----- Média dos pixels:  54.8\n",
            "Pixels: 294 até 307 ----- Média dos pixels:  67.6\n",
            "Pixels: 322 até 335 ----- Média dos pixels:  77.9\n",
            "Pixels: 350 até 363 ----- Média dos pixels:  80.9\n",
            "Pixels: 378 até 391 ----- Média dos pixels:  81.0\n",
            "Pixels: 406 até 419 ----- Média dos pixels:  83.1\n",
            "Pixels: 434 até 447 ----- Média dos pixels:  90.9\n",
            "Pixels: 462 até 475 ----- Média dos pixels:  100.2\n",
            "Pixels: 490 até 503 ----- Média dos pixels:  104.1\n",
            "Pixels: 518 até 531 ----- Média dos pixels:  89.8\n",
            "Pixels: 546 até 559 ----- Média dos pixels:  70.3\n",
            "Pixels: 574 até 587 ----- Média dos pixels:  48.5\n",
            "Pixels: 602 até 615 ----- Média dos pixels:  34.2\n",
            "Pixels: 630 até 643 ----- Média dos pixels:  25.2\n",
            "Pixels: 658 até 671 ----- Média dos pixels:  19.3\n",
            "Pixels: 686 até 699 ----- Média dos pixels:  14.1\n",
            "Pixels: 714 até 727 ----- Média dos pixels:  8.5\n",
            "Pixels: 742 até 755 ----- Média dos pixels:  4.7\n",
            "Pixels: 770 até 783 ----- Média dos pixels:  1.5\n",
            " \n",
            " \n",
            " \n",
            "Base:  Camisas\n",
            " \n",
            "Pixels: 14 até 27 ----- Média dos pixels:  4.4\n",
            "Pixels: 42 até 55 ----- Média dos pixels:  15.0\n",
            "Pixels: 70 até 83 ----- Média dos pixels:  26.6\n",
            "Pixels: 98 até 111 ----- Média dos pixels:  41.7\n",
            "Pixels: 126 até 139 ----- Média dos pixels:  61.5\n",
            "Pixels: 154 até 167 ----- Média dos pixels:  86.2\n",
            "Pixels: 182 até 195 ----- Média dos pixels:  110.7\n",
            "Pixels: 210 até 223 ----- Média dos pixels:  132.4\n",
            "Pixels: 238 até 251 ----- Média dos pixels:  148.9\n",
            "Pixels: 266 até 279 ----- Média dos pixels:  157.8\n",
            "Pixels: 294 até 307 ----- Média dos pixels:  162.6\n",
            "Pixels: 322 até 335 ----- Média dos pixels:  166.0\n",
            "Pixels: 350 até 363 ----- Média dos pixels:  169.6\n",
            "Pixels: 378 até 391 ----- Média dos pixels:  172.6\n",
            "Pixels: 406 até 419 ----- Média dos pixels:  174.9\n",
            "Pixels: 434 até 447 ----- Média dos pixels:  176.2\n",
            "Pixels: 462 até 475 ----- Média dos pixels:  176.9\n",
            "Pixels: 490 até 503 ----- Média dos pixels:  176.9\n",
            "Pixels: 518 até 531 ----- Média dos pixels:  175.5\n",
            "Pixels: 546 até 559 ----- Média dos pixels:  171.2\n",
            "Pixels: 574 até 587 ----- Média dos pixels:  160.9\n",
            "Pixels: 602 até 615 ----- Média dos pixels:  140.8\n",
            "Pixels: 630 até 643 ----- Média dos pixels:  109.7\n",
            "Pixels: 658 até 671 ----- Média dos pixels:  76.1\n",
            "Pixels: 686 até 699 ----- Média dos pixels:  47.7\n",
            "Pixels: 714 até 727 ----- Média dos pixels:  25.7\n",
            "Pixels: 742 até 755 ----- Média dos pixels:  12.3\n",
            "Pixels: 770 até 783 ----- Média dos pixels:  3.1\n",
            " \n",
            " \n",
            " \n",
            "Base:  Tênis\n",
            " \n",
            "Pixels: 14 até 27 ----- Média dos pixels:  0.0\n",
            "Pixels: 42 até 55 ----- Média dos pixels:  0.0\n",
            "Pixels: 70 até 83 ----- Média dos pixels:  0.1\n",
            "Pixels: 98 até 111 ----- Média dos pixels:  0.4\n",
            "Pixels: 126 até 139 ----- Média dos pixels:  0.9\n",
            "Pixels: 154 até 167 ----- Média dos pixels:  2.5\n",
            "Pixels: 182 até 195 ----- Média dos pixels:  6.8\n",
            "Pixels: 210 até 223 ----- Média dos pixels:  16.2\n",
            "Pixels: 238 até 251 ----- Média dos pixels:  35.3\n",
            "Pixels: 266 até 279 ----- Média dos pixels:  66.2\n",
            "Pixels: 294 até 307 ----- Média dos pixels:  95.9\n",
            "Pixels: 322 até 335 ----- Média dos pixels:  123.9\n",
            "Pixels: 350 até 363 ----- Média dos pixels:  152.0\n",
            "Pixels: 378 até 391 ----- Média dos pixels:  162.3\n",
            "Pixels: 406 até 419 ----- Média dos pixels:  162.7\n",
            "Pixels: 434 até 447 ----- Média dos pixels:  165.9\n",
            "Pixels: 462 até 475 ----- Média dos pixels:  160.8\n",
            "Pixels: 490 até 503 ----- Média dos pixels:  126.0\n",
            "Pixels: 518 até 531 ----- Média dos pixels:  98.1\n",
            "Pixels: 546 até 559 ----- Média dos pixels:  79.1\n",
            "Pixels: 574 até 587 ----- Média dos pixels:  44.4\n",
            "Pixels: 602 até 615 ----- Média dos pixels:  18.8\n",
            "Pixels: 630 até 643 ----- Média dos pixels:  8.7\n",
            "Pixels: 658 até 671 ----- Média dos pixels:  2.4\n",
            "Pixels: 686 até 699 ----- Média dos pixels:  0.7\n",
            "Pixels: 714 até 727 ----- Média dos pixels:  0.2\n",
            "Pixels: 742 até 755 ----- Média dos pixels:  0.1\n",
            "Pixels: 770 até 783 ----- Média dos pixels:  0.0\n",
            " \n",
            " \n",
            " \n",
            "Base:  Mochilas\n",
            " \n",
            "Pixels: 14 até 27 ----- Média dos pixels:  7.3\n",
            "Pixels: 42 até 55 ----- Média dos pixels:  13.6\n",
            "Pixels: 70 até 83 ----- Média dos pixels:  15.3\n",
            "Pixels: 98 até 111 ----- Média dos pixels:  19.1\n",
            "Pixels: 126 até 139 ----- Média dos pixels:  26.6\n",
            "Pixels: 154 até 167 ----- Média dos pixels:  40.2\n",
            "Pixels: 182 até 195 ----- Média dos pixels:  57.3\n",
            "Pixels: 210 até 223 ----- Média dos pixels:  73.3\n",
            "Pixels: 238 até 251 ----- Média dos pixels:  86.9\n",
            "Pixels: 266 até 279 ----- Média dos pixels:  99.8\n",
            "Pixels: 294 até 307 ----- Média dos pixels:  111.7\n",
            "Pixels: 322 até 335 ----- Média dos pixels:  122.6\n",
            "Pixels: 350 até 363 ----- Média dos pixels:  133.0\n",
            "Pixels: 378 até 391 ----- Média dos pixels:  140.2\n",
            "Pixels: 406 até 419 ----- Média dos pixels:  143.3\n",
            "Pixels: 434 até 447 ----- Média dos pixels:  145.6\n",
            "Pixels: 462 até 475 ----- Média dos pixels:  147.4\n",
            "Pixels: 490 até 503 ----- Média dos pixels:  148.8\n",
            "Pixels: 518 até 531 ----- Média dos pixels:  149.7\n",
            "Pixels: 546 até 559 ----- Média dos pixels:  149.6\n",
            "Pixels: 574 até 587 ----- Média dos pixels:  146.7\n",
            "Pixels: 602 até 615 ----- Média dos pixels:  137.7\n",
            "Pixels: 630 até 643 ----- Média dos pixels:  119.5\n",
            "Pixels: 658 até 671 ----- Média dos pixels:  102.1\n",
            "Pixels: 686 até 699 ----- Média dos pixels:  87.7\n",
            "Pixels: 714 até 727 ----- Média dos pixels:  75.0\n",
            "Pixels: 742 até 755 ----- Média dos pixels:  59.5\n",
            "Pixels: 770 até 783 ----- Média dos pixels:  23.8\n",
            " \n",
            " \n",
            " \n",
            "Base:  Botas\n",
            " \n",
            "Pixels: 14 até 27 ----- Média dos pixels:  4.4\n",
            "Pixels: 42 até 55 ----- Média dos pixels:  15.0\n",
            "Pixels: 70 até 83 ----- Média dos pixels:  26.6\n",
            "Pixels: 98 até 111 ----- Média dos pixels:  41.7\n",
            "Pixels: 126 até 139 ----- Média dos pixels:  61.5\n",
            "Pixels: 154 até 167 ----- Média dos pixels:  86.2\n",
            "Pixels: 182 até 195 ----- Média dos pixels:  110.7\n",
            "Pixels: 210 até 223 ----- Média dos pixels:  132.4\n",
            "Pixels: 238 até 251 ----- Média dos pixels:  148.9\n",
            "Pixels: 266 até 279 ----- Média dos pixels:  157.8\n",
            "Pixels: 294 até 307 ----- Média dos pixels:  162.6\n",
            "Pixels: 322 até 335 ----- Média dos pixels:  166.0\n",
            "Pixels: 350 até 363 ----- Média dos pixels:  169.6\n",
            "Pixels: 378 até 391 ----- Média dos pixels:  172.6\n",
            "Pixels: 406 até 419 ----- Média dos pixels:  174.9\n",
            "Pixels: 434 até 447 ----- Média dos pixels:  176.2\n",
            "Pixels: 462 até 475 ----- Média dos pixels:  176.9\n",
            "Pixels: 490 até 503 ----- Média dos pixels:  176.9\n",
            "Pixels: 518 até 531 ----- Média dos pixels:  175.5\n",
            "Pixels: 546 até 559 ----- Média dos pixels:  171.2\n",
            "Pixels: 574 até 587 ----- Média dos pixels:  160.9\n",
            "Pixels: 602 até 615 ----- Média dos pixels:  140.8\n",
            "Pixels: 630 até 643 ----- Média dos pixels:  109.7\n",
            "Pixels: 658 até 671 ----- Média dos pixels:  76.1\n",
            "Pixels: 686 até 699 ----- Média dos pixels:  47.7\n",
            "Pixels: 714 até 727 ----- Média dos pixels:  25.7\n",
            "Pixels: 742 até 755 ----- Média dos pixels:  12.3\n",
            "Pixels: 770 até 783 ----- Média dos pixels:  3.1\n"
          ]
        }
      ]
    },
    {
      "cell_type": "markdown",
      "source": [
        "### **Pixels das partes do meio para cima das imagens**"
      ],
      "metadata": {
        "id": "8xwd1WRdN6y9"
      }
    },
    {
      "cell_type": "code",
      "source": [
        "numeros1 = np.linspace(28,784,28)\n",
        "intervalo3 = []\n",
        "intervalo4 = []\n",
        "\n",
        "for numero in numeros1:\n",
        "  intervalo3.append(int(numero - 28))\n",
        "  intervalo4.append(int(numero-14))\n",
        "\n",
        "for a,base in enumerate(bases):\n",
        "  print(' ')\n",
        "  print(' ')\n",
        "  print(' ')\n",
        "  print('Base: ',classes[a])\n",
        "  print(' ')\n",
        "\n",
        "  for i in range(28):\n",
        "    print(f\"Pixels: {intervalo3[0+i]} até {intervalo4[0+i]-1} ----- Média dos pixels: \", round(base.iloc[intervalo3[0+i]:intervalo4[0+i]]['mean'].mean(),1))"
      ],
      "metadata": {
        "colab": {
          "base_uri": "https://localhost:8080/"
        },
        "id": "_a_y8ESlL8m-",
        "outputId": "c9a5eb1d-472d-4f84-a0ba-338440015a2e"
      },
      "execution_count": 58,
      "outputs": [
        {
          "output_type": "stream",
          "name": "stdout",
          "text": [
            " \n",
            " \n",
            " \n",
            "Base:  Camisetas/top\n",
            " \n",
            "Pixels: 0 até 13 ----- Média dos pixels:  22.0\n",
            "Pixels: 28 até 41 ----- Média dos pixels:  69.0\n",
            "Pixels: 56 até 69 ----- Média dos pixels:  82.9\n",
            "Pixels: 84 até 97 ----- Média dos pixels:  90.3\n",
            "Pixels: 112 até 125 ----- Média dos pixels:  95.3\n",
            "Pixels: 140 até 153 ----- Média dos pixels:  98.9\n",
            "Pixels: 168 até 181 ----- Média dos pixels:  102.1\n",
            "Pixels: 196 até 209 ----- Média dos pixels:  105.0\n",
            "Pixels: 224 até 237 ----- Média dos pixels:  106.8\n",
            "Pixels: 252 até 265 ----- Média dos pixels:  106.5\n",
            "Pixels: 280 até 293 ----- Média dos pixels:  100.0\n",
            "Pixels: 308 até 321 ----- Média dos pixels:  88.3\n",
            "Pixels: 336 até 349 ----- Média dos pixels:  79.1\n",
            "Pixels: 364 até 377 ----- Média dos pixels:  75.5\n",
            "Pixels: 392 até 405 ----- Média dos pixels:  74.1\n",
            "Pixels: 420 até 433 ----- Média dos pixels:  74.0\n",
            "Pixels: 448 até 461 ----- Média dos pixels:  74.0\n",
            "Pixels: 476 até 489 ----- Média dos pixels:  74.3\n",
            "Pixels: 504 até 517 ----- Média dos pixels:  75.0\n",
            "Pixels: 532 até 545 ----- Média dos pixels:  75.8\n",
            "Pixels: 560 até 573 ----- Média dos pixels:  76.8\n",
            "Pixels: 588 até 601 ----- Média dos pixels:  77.6\n",
            "Pixels: 616 até 629 ----- Média dos pixels:  78.1\n",
            "Pixels: 644 até 657 ----- Média dos pixels:  78.6\n",
            "Pixels: 672 até 685 ----- Média dos pixels:  78.6\n",
            "Pixels: 700 até 713 ----- Média dos pixels:  77.6\n",
            "Pixels: 728 até 741 ----- Média dos pixels:  83.3\n",
            "Pixels: 756 até 769 ----- Média dos pixels:  45.6\n",
            " \n",
            " \n",
            " \n",
            "Base:  Calças\n",
            " \n",
            "Pixels: 0 até 13 ----- Média dos pixels:  38.0\n",
            "Pixels: 28 até 41 ----- Média dos pixels:  64.6\n",
            "Pixels: 56 até 69 ----- Média dos pixels:  62.0\n",
            "Pixels: 84 até 97 ----- Média dos pixels:  65.1\n",
            "Pixels: 112 até 125 ----- Média dos pixels:  66.2\n",
            "Pixels: 140 até 153 ----- Média dos pixels:  67.1\n",
            "Pixels: 168 até 181 ----- Média dos pixels:  67.2\n",
            "Pixels: 196 até 209 ----- Média dos pixels:  66.6\n",
            "Pixels: 224 até 237 ----- Média dos pixels:  66.1\n",
            "Pixels: 252 até 265 ----- Média dos pixels:  65.0\n",
            "Pixels: 280 até 293 ----- Média dos pixels:  63.2\n",
            "Pixels: 308 até 321 ----- Média dos pixels:  61.0\n",
            "Pixels: 336 até 349 ----- Média dos pixels:  58.9\n",
            "Pixels: 364 até 377 ----- Média dos pixels:  56.8\n",
            "Pixels: 392 até 405 ----- Média dos pixels:  55.2\n",
            "Pixels: 420 até 433 ----- Média dos pixels:  53.8\n",
            "Pixels: 448 até 461 ----- Média dos pixels:  52.4\n",
            "Pixels: 476 até 489 ----- Média dos pixels:  51.5\n",
            "Pixels: 504 até 517 ----- Média dos pixels:  51.1\n",
            "Pixels: 532 até 545 ----- Média dos pixels:  51.1\n",
            "Pixels: 560 até 573 ----- Média dos pixels:  50.9\n",
            "Pixels: 588 até 601 ----- Média dos pixels:  50.4\n",
            "Pixels: 616 até 629 ----- Média dos pixels:  49.3\n",
            "Pixels: 644 até 657 ----- Média dos pixels:  48.1\n",
            "Pixels: 672 até 685 ----- Média dos pixels:  46.8\n",
            "Pixels: 700 até 713 ----- Média dos pixels:  45.0\n",
            "Pixels: 728 até 741 ----- Média dos pixels:  46.2\n",
            "Pixels: 756 até 769 ----- Média dos pixels:  27.0\n",
            " \n",
            " \n",
            " \n",
            "Base:  Suéteres\n",
            " \n",
            "Pixels: 0 até 13 ----- Média dos pixels:  24.3\n",
            "Pixels: 28 até 41 ----- Média dos pixels:  69.8\n",
            "Pixels: 56 até 69 ----- Média dos pixels:  79.2\n",
            "Pixels: 84 até 97 ----- Média dos pixels:  86.5\n",
            "Pixels: 112 até 125 ----- Média dos pixels:  92.6\n",
            "Pixels: 140 até 153 ----- Média dos pixels:  96.7\n",
            "Pixels: 168 até 181 ----- Média dos pixels:  99.2\n",
            "Pixels: 196 até 209 ----- Média dos pixels:  102.0\n",
            "Pixels: 224 até 237 ----- Média dos pixels:  105.3\n",
            "Pixels: 252 até 265 ----- Média dos pixels:  107.4\n",
            "Pixels: 280 até 293 ----- Média dos pixels:  108.7\n",
            "Pixels: 308 até 321 ----- Média dos pixels:  109.6\n",
            "Pixels: 336 até 349 ----- Média dos pixels:  110.0\n",
            "Pixels: 364 até 377 ----- Média dos pixels:  110.3\n",
            "Pixels: 392 até 405 ----- Média dos pixels:  110.7\n",
            "Pixels: 420 até 433 ----- Média dos pixels:  111.0\n",
            "Pixels: 448 até 461 ----- Média dos pixels:  111.4\n",
            "Pixels: 476 até 489 ----- Média dos pixels:  111.6\n",
            "Pixels: 504 até 517 ----- Média dos pixels:  111.6\n",
            "Pixels: 532 até 545 ----- Média dos pixels:  111.3\n",
            "Pixels: 560 até 573 ----- Média dos pixels:  110.7\n",
            "Pixels: 588 até 601 ----- Média dos pixels:  109.6\n",
            "Pixels: 616 até 629 ----- Média dos pixels:  107.2\n",
            "Pixels: 644 até 657 ----- Média dos pixels:  101.8\n",
            "Pixels: 672 até 685 ----- Média dos pixels:  92.0\n",
            "Pixels: 700 até 713 ----- Média dos pixels:  77.1\n",
            "Pixels: 728 até 741 ----- Média dos pixels:  60.2\n",
            "Pixels: 756 até 769 ----- Média dos pixels:  25.1\n",
            " \n",
            " \n",
            " \n",
            "Base:  Vestidos\n",
            " \n",
            "Pixels: 0 até 13 ----- Média dos pixels:  18.8\n",
            "Pixels: 28 até 41 ----- Média dos pixels:  53.0\n",
            "Pixels: 56 até 69 ----- Média dos pixels:  58.1\n",
            "Pixels: 84 até 97 ----- Média dos pixels:  61.8\n",
            "Pixels: 112 até 125 ----- Média dos pixels:  64.7\n",
            "Pixels: 140 até 153 ----- Média dos pixels:  66.5\n",
            "Pixels: 168 até 181 ----- Média dos pixels:  66.8\n",
            "Pixels: 196 até 209 ----- Média dos pixels:  65.9\n",
            "Pixels: 224 até 237 ----- Média dos pixels:  64.4\n",
            "Pixels: 252 até 265 ----- Média dos pixels:  63.6\n",
            "Pixels: 280 até 293 ----- Média dos pixels:  63.7\n",
            "Pixels: 308 até 321 ----- Média dos pixels:  64.5\n",
            "Pixels: 336 até 349 ----- Média dos pixels:  66.0\n",
            "Pixels: 364 até 377 ----- Média dos pixels:  67.4\n",
            "Pixels: 392 até 405 ----- Média dos pixels:  68.4\n",
            "Pixels: 420 até 433 ----- Média dos pixels:  69.1\n",
            "Pixels: 448 até 461 ----- Média dos pixels:  69.5\n",
            "Pixels: 476 até 489 ----- Média dos pixels:  70.0\n",
            "Pixels: 504 até 517 ----- Média dos pixels:  70.4\n",
            "Pixels: 532 até 545 ----- Média dos pixels:  70.4\n",
            "Pixels: 560 até 573 ----- Média dos pixels:  70.0\n",
            "Pixels: 588 até 601 ----- Média dos pixels:  69.5\n",
            "Pixels: 616 até 629 ----- Média dos pixels:  69.6\n",
            "Pixels: 644 até 657 ----- Média dos pixels:  69.8\n",
            "Pixels: 672 até 685 ----- Média dos pixels:  69.9\n",
            "Pixels: 700 até 713 ----- Média dos pixels:  69.7\n",
            "Pixels: 728 até 741 ----- Média dos pixels:  72.0\n",
            "Pixels: 756 até 769 ----- Média dos pixels:  35.1\n",
            " \n",
            " \n",
            " \n",
            "Base:  Casacos\n",
            " \n",
            "Pixels: 0 até 13 ----- Média dos pixels:  21.9\n",
            "Pixels: 28 até 41 ----- Média dos pixels:  51.8\n",
            "Pixels: 56 até 69 ----- Média dos pixels:  63.8\n",
            "Pixels: 84 até 97 ----- Média dos pixels:  77.8\n",
            "Pixels: 112 até 125 ----- Média dos pixels:  88.4\n",
            "Pixels: 140 até 153 ----- Média dos pixels:  95.2\n",
            "Pixels: 168 até 181 ----- Média dos pixels:  99.3\n",
            "Pixels: 196 até 209 ----- Média dos pixels:  102.5\n",
            "Pixels: 224 até 237 ----- Média dos pixels:  105.3\n",
            "Pixels: 252 até 265 ----- Média dos pixels:  108.0\n",
            "Pixels: 280 até 293 ----- Média dos pixels:  110.8\n",
            "Pixels: 308 até 321 ----- Média dos pixels:  113.0\n",
            "Pixels: 336 até 349 ----- Média dos pixels:  114.5\n",
            "Pixels: 364 até 377 ----- Média dos pixels:  115.5\n",
            "Pixels: 392 até 405 ----- Média dos pixels:  116.5\n",
            "Pixels: 420 até 433 ----- Média dos pixels:  117.1\n",
            "Pixels: 448 até 461 ----- Média dos pixels:  117.7\n",
            "Pixels: 476 até 489 ----- Média dos pixels:  118.0\n",
            "Pixels: 504 até 517 ----- Média dos pixels:  118.3\n",
            "Pixels: 532 até 545 ----- Média dos pixels:  118.4\n",
            "Pixels: 560 até 573 ----- Média dos pixels:  117.4\n",
            "Pixels: 588 até 601 ----- Média dos pixels:  114.9\n",
            "Pixels: 616 até 629 ----- Média dos pixels:  110.8\n",
            "Pixels: 644 até 657 ----- Média dos pixels:  105.3\n",
            "Pixels: 672 até 685 ----- Média dos pixels:  96.7\n",
            "Pixels: 700 até 713 ----- Média dos pixels:  82.5\n",
            "Pixels: 728 até 741 ----- Média dos pixels:  67.8\n",
            "Pixels: 756 até 769 ----- Média dos pixels:  28.0\n",
            " \n",
            " \n",
            " \n",
            "Base:  Sandálias\n",
            " \n",
            "Pixels: 0 até 13 ----- Média dos pixels:  0.1\n",
            "Pixels: 28 até 41 ----- Média dos pixels:  0.3\n",
            "Pixels: 56 até 69 ----- Média dos pixels:  0.8\n",
            "Pixels: 84 até 97 ----- Média dos pixels:  1.2\n",
            "Pixels: 112 até 125 ----- Média dos pixels:  1.5\n",
            "Pixels: 140 até 153 ----- Média dos pixels:  2.0\n",
            "Pixels: 168 até 181 ----- Média dos pixels:  2.5\n",
            "Pixels: 196 até 209 ----- Média dos pixels:  3.3\n",
            "Pixels: 224 até 237 ----- Média dos pixels:  4.4\n",
            "Pixels: 252 até 265 ----- Média dos pixels:  6.3\n",
            "Pixels: 280 até 293 ----- Média dos pixels:  9.8\n",
            "Pixels: 308 até 321 ----- Média dos pixels:  16.1\n",
            "Pixels: 336 até 349 ----- Média dos pixels:  23.8\n",
            "Pixels: 364 até 377 ----- Média dos pixels:  30.9\n",
            "Pixels: 392 até 405 ----- Média dos pixels:  39.6\n",
            "Pixels: 420 até 433 ----- Média dos pixels:  52.3\n",
            "Pixels: 448 até 461 ----- Média dos pixels:  67.7\n",
            "Pixels: 476 até 489 ----- Média dos pixels:  78.9\n",
            "Pixels: 504 até 517 ----- Média dos pixels:  76.5\n",
            "Pixels: 532 até 545 ----- Média dos pixels:  66.0\n",
            "Pixels: 560 até 573 ----- Média dos pixels:  53.5\n",
            "Pixels: 588 até 601 ----- Média dos pixels:  44.8\n",
            "Pixels: 616 até 629 ----- Média dos pixels:  39.0\n",
            "Pixels: 644 até 657 ----- Média dos pixels:  34.8\n",
            "Pixels: 672 até 685 ----- Média dos pixels:  28.4\n",
            "Pixels: 700 até 713 ----- Média dos pixels:  20.5\n",
            "Pixels: 728 até 741 ----- Média dos pixels:  11.8\n",
            "Pixels: 756 até 769 ----- Média dos pixels:  3.3\n",
            " \n",
            " \n",
            " \n",
            "Base:  Camisas\n",
            " \n",
            "Pixels: 0 até 13 ----- Média dos pixels:  0.3\n",
            "Pixels: 28 até 41 ----- Média dos pixels:  1.2\n",
            "Pixels: 56 até 69 ----- Média dos pixels:  1.9\n",
            "Pixels: 84 até 97 ----- Média dos pixels:  2.6\n",
            "Pixels: 112 até 125 ----- Média dos pixels:  3.4\n",
            "Pixels: 140 até 153 ----- Média dos pixels:  4.1\n",
            "Pixels: 168 até 181 ----- Média dos pixels:  4.8\n",
            "Pixels: 196 até 209 ----- Média dos pixels:  5.6\n",
            "Pixels: 224 até 237 ----- Média dos pixels:  6.5\n",
            "Pixels: 252 até 265 ----- Média dos pixels:  7.8\n",
            "Pixels: 280 até 293 ----- Média dos pixels:  9.8\n",
            "Pixels: 308 até 321 ----- Média dos pixels:  13.1\n",
            "Pixels: 336 até 349 ----- Média dos pixels:  18.4\n",
            "Pixels: 364 até 377 ----- Média dos pixels:  25.9\n",
            "Pixels: 392 até 405 ----- Média dos pixels:  35.8\n",
            "Pixels: 420 até 433 ----- Média dos pixels:  48.9\n",
            "Pixels: 448 até 461 ----- Média dos pixels:  66.8\n",
            "Pixels: 476 até 489 ----- Média dos pixels:  87.7\n",
            "Pixels: 504 até 517 ----- Média dos pixels:  109.3\n",
            "Pixels: 532 até 545 ----- Média dos pixels:  129.0\n",
            "Pixels: 560 até 573 ----- Média dos pixels:  141.7\n",
            "Pixels: 588 até 601 ----- Média dos pixels:  140.5\n",
            "Pixels: 616 até 629 ----- Média dos pixels:  122.6\n",
            "Pixels: 644 até 657 ----- Média dos pixels:  95.6\n",
            "Pixels: 672 até 685 ----- Média dos pixels:  67.2\n",
            "Pixels: 700 até 713 ----- Média dos pixels:  40.8\n",
            "Pixels: 728 até 741 ----- Média dos pixels:  21.3\n",
            "Pixels: 756 até 769 ----- Média dos pixels:  4.8\n",
            " \n",
            " \n",
            " \n",
            "Base:  Tênis\n",
            " \n",
            "Pixels: 0 até 13 ----- Média dos pixels:  0.0\n",
            "Pixels: 28 até 41 ----- Média dos pixels:  0.0\n",
            "Pixels: 56 até 69 ----- Média dos pixels:  0.0\n",
            "Pixels: 84 até 97 ----- Média dos pixels:  0.0\n",
            "Pixels: 112 até 125 ----- Média dos pixels:  0.0\n",
            "Pixels: 140 até 153 ----- Média dos pixels:  0.1\n",
            "Pixels: 168 até 181 ----- Média dos pixels:  0.1\n",
            "Pixels: 196 até 209 ----- Média dos pixels:  0.3\n",
            "Pixels: 224 até 237 ----- Média dos pixels:  1.0\n",
            "Pixels: 252 até 265 ----- Média dos pixels:  3.3\n",
            "Pixels: 280 até 293 ----- Média dos pixels:  11.5\n",
            "Pixels: 308 até 321 ----- Média dos pixels:  27.6\n",
            "Pixels: 336 até 349 ----- Média dos pixels:  46.5\n",
            "Pixels: 364 até 377 ----- Média dos pixels:  68.6\n",
            "Pixels: 392 até 405 ----- Média dos pixels:  96.7\n",
            "Pixels: 420 até 433 ----- Média dos pixels:  120.4\n",
            "Pixels: 448 até 461 ----- Média dos pixels:  131.4\n",
            "Pixels: 476 até 489 ----- Média dos pixels:  123.7\n",
            "Pixels: 504 até 517 ----- Média dos pixels:  98.4\n",
            "Pixels: 532 até 545 ----- Média dos pixels:  66.6\n",
            "Pixels: 560 até 573 ----- Média dos pixels:  38.3\n",
            "Pixels: 588 até 601 ----- Média dos pixels:  17.2\n",
            "Pixels: 616 até 629 ----- Média dos pixels:  8.1\n",
            "Pixels: 644 até 657 ----- Média dos pixels:  2.6\n",
            "Pixels: 672 até 685 ----- Média dos pixels:  0.9\n",
            "Pixels: 700 até 713 ----- Média dos pixels:  0.4\n",
            "Pixels: 728 até 741 ----- Média dos pixels:  0.2\n",
            "Pixels: 756 até 769 ----- Média dos pixels:  0.0\n",
            " \n",
            " \n",
            " \n",
            "Base:  Mochilas\n",
            " \n",
            "Pixels: 0 até 13 ----- Média dos pixels:  4.0\n",
            "Pixels: 28 até 41 ----- Média dos pixels:  10.4\n",
            "Pixels: 56 até 69 ----- Média dos pixels:  13.4\n",
            "Pixels: 84 até 97 ----- Média dos pixels:  17.4\n",
            "Pixels: 112 até 125 ----- Média dos pixels:  24.8\n",
            "Pixels: 140 até 153 ----- Média dos pixels:  37.5\n",
            "Pixels: 168 até 181 ----- Média dos pixels:  52.7\n",
            "Pixels: 196 até 209 ----- Média dos pixels:  67.4\n",
            "Pixels: 224 até 237 ----- Média dos pixels:  79.9\n",
            "Pixels: 252 até 265 ----- Média dos pixels:  91.8\n",
            "Pixels: 280 até 293 ----- Média dos pixels:  103.3\n",
            "Pixels: 308 até 321 ----- Média dos pixels:  114.1\n",
            "Pixels: 336 até 349 ----- Média dos pixels:  123.9\n",
            "Pixels: 364 até 377 ----- Média dos pixels:  131.0\n",
            "Pixels: 392 até 405 ----- Média dos pixels:  134.7\n",
            "Pixels: 420 até 433 ----- Média dos pixels:  137.5\n",
            "Pixels: 448 até 461 ----- Média dos pixels:  139.2\n",
            "Pixels: 476 até 489 ----- Média dos pixels:  140.7\n",
            "Pixels: 504 até 517 ----- Média dos pixels:  141.9\n",
            "Pixels: 532 até 545 ----- Média dos pixels:  142.5\n",
            "Pixels: 560 até 573 ----- Média dos pixels:  140.7\n",
            "Pixels: 588 até 601 ----- Média dos pixels:  134.4\n",
            "Pixels: 616 até 629 ----- Média dos pixels:  120.0\n",
            "Pixels: 644 até 657 ----- Média dos pixels:  102.2\n",
            "Pixels: 672 até 685 ----- Média dos pixels:  87.3\n",
            "Pixels: 700 até 713 ----- Média dos pixels:  75.3\n",
            "Pixels: 728 até 741 ----- Média dos pixels:  66.0\n",
            "Pixels: 756 até 769 ----- Média dos pixels:  31.8\n",
            " \n",
            " \n",
            " \n",
            "Base:  Botas\n",
            " \n",
            "Pixels: 0 até 13 ----- Média dos pixels:  0.3\n",
            "Pixels: 28 até 41 ----- Média dos pixels:  1.2\n",
            "Pixels: 56 até 69 ----- Média dos pixels:  1.9\n",
            "Pixels: 84 até 97 ----- Média dos pixels:  2.6\n",
            "Pixels: 112 até 125 ----- Média dos pixels:  3.4\n",
            "Pixels: 140 até 153 ----- Média dos pixels:  4.1\n",
            "Pixels: 168 até 181 ----- Média dos pixels:  4.8\n",
            "Pixels: 196 até 209 ----- Média dos pixels:  5.6\n",
            "Pixels: 224 até 237 ----- Média dos pixels:  6.5\n",
            "Pixels: 252 até 265 ----- Média dos pixels:  7.8\n",
            "Pixels: 280 até 293 ----- Média dos pixels:  9.8\n",
            "Pixels: 308 até 321 ----- Média dos pixels:  13.1\n",
            "Pixels: 336 até 349 ----- Média dos pixels:  18.4\n",
            "Pixels: 364 até 377 ----- Média dos pixels:  25.9\n",
            "Pixels: 392 até 405 ----- Média dos pixels:  35.8\n",
            "Pixels: 420 até 433 ----- Média dos pixels:  48.9\n",
            "Pixels: 448 até 461 ----- Média dos pixels:  66.8\n",
            "Pixels: 476 até 489 ----- Média dos pixels:  87.7\n",
            "Pixels: 504 até 517 ----- Média dos pixels:  109.3\n",
            "Pixels: 532 até 545 ----- Média dos pixels:  129.0\n",
            "Pixels: 560 até 573 ----- Média dos pixels:  141.7\n",
            "Pixels: 588 até 601 ----- Média dos pixels:  140.5\n",
            "Pixels: 616 até 629 ----- Média dos pixels:  122.6\n",
            "Pixels: 644 até 657 ----- Média dos pixels:  95.6\n",
            "Pixels: 672 até 685 ----- Média dos pixels:  67.2\n",
            "Pixels: 700 até 713 ----- Média dos pixels:  40.8\n",
            "Pixels: 728 até 741 ----- Média dos pixels:  21.3\n",
            "Pixels: 756 até 769 ----- Média dos pixels:  4.8\n"
          ]
        }
      ]
    },
    {
      "cell_type": "markdown",
      "source": [
        "# **Criando o primeiro modelo de Redes Neurais**\n",
        "- Obs: A explicações do passo a passo da criação do modelo estão nesse módulo\n",
        "### **Características:**\n",
        "- Modelo **simples**.\n",
        "- Rescaling feito fora do modelo.\n",
        "- Apenas **uma camada oculta**\n",
        "- **Sem camadas de pré processamento.**\n"
      ],
      "metadata": {
        "id": "6tqDFJ9l6ih_"
      }
    },
    {
      "cell_type": "markdown",
      "source": [
        "**Importando a base e definindo o treino e teste:**"
      ],
      "metadata": {
        "id": "ZGkH6HLe1Ry7"
      }
    },
    {
      "cell_type": "code",
      "source": [
        "fashion_mnist = keras.datasets.fashion_mnist\n",
        "(xtrain, ytrain), (xtest, ytest) = fashion_mnist.load_data()"
      ],
      "metadata": {
        "id": "eegxvEsUaiCK"
      },
      "execution_count": 59,
      "outputs": []
    },
    {
      "cell_type": "markdown",
      "source": [
        "**Rescaling:**"
      ],
      "metadata": {
        "id": "qOFv3g7X1KBw"
      }
    },
    {
      "cell_type": "code",
      "source": [
        "xtrain = xtrain / 255.0\n",
        "xtest = xtest / 255.0"
      ],
      "metadata": {
        "id": "QF0r8qnAaoNN"
      },
      "execution_count": 60,
      "outputs": []
    },
    {
      "cell_type": "markdown",
      "source": [
        "**Criação do modelo:**"
      ],
      "metadata": {
        "id": "GD4tupak1NDh"
      }
    },
    {
      "cell_type": "code",
      "source": [
        "modelo1 = keras.models.Sequential()\n",
        "modelo1.add(keras.layers.InputLayer(input_shape=(28,28)))                       # Camada de entrada\n",
        "modelo1.add(keras.layers.Flatten())                                             # Alternado dimensões\n",
        "modelo1.add(keras.layers.Dense(256, activation='relu'))                         # Camada oculta\n",
        "modelo1.add(keras.layers.Dense(10, activation='softmax'))                       # Camada de saída\n",
        "modelo1.summary()"
      ],
      "metadata": {
        "id": "7qWq4aPb7o6D",
        "colab": {
          "base_uri": "https://localhost:8080/"
        },
        "outputId": "1cfa5de3-4989-48c9-8072-2963e58f61dd"
      },
      "execution_count": 61,
      "outputs": [
        {
          "output_type": "stream",
          "name": "stdout",
          "text": [
            "Model: \"sequential_2\"\n",
            "_________________________________________________________________\n",
            " Layer (type)                Output Shape              Param #   \n",
            "=================================================================\n",
            " flatten_2 (Flatten)         (None, 784)               0         \n",
            "                                                                 \n",
            " dense_3 (Dense)             (None, 256)               200960    \n",
            "                                                                 \n",
            " dense_4 (Dense)             (None, 10)                2570      \n",
            "                                                                 \n",
            "=================================================================\n",
            "Total params: 203530 (795.04 KB)\n",
            "Trainable params: 203530 (795.04 KB)\n",
            "Non-trainable params: 0 (0.00 Byte)\n",
            "_________________________________________________________________\n"
          ]
        }
      ]
    },
    {
      "cell_type": "markdown",
      "source": [
        "**Definindo otimizador, função de custo, métrica e compilando o modelo:**"
      ],
      "metadata": {
        "id": "k6fqlpsn1ZvP"
      }
    },
    {
      "cell_type": "code",
      "source": [
        "otimizador = keras.optimizers.Adam()\n",
        "funcao_custo = keras.losses.SparseCategoricalCrossentropy()\n",
        "metrica = keras.metrics.SparseCategoricalAccuracy()\n",
        "\n",
        "modelo1.compile(optimizer=otimizador, loss=funcao_custo, metrics=[metrica])"
      ],
      "metadata": {
        "id": "-2Uu6HS8aR27"
      },
      "execution_count": 62,
      "outputs": []
    },
    {
      "cell_type": "markdown",
      "source": [
        "- **Criando o EarlyStop, definindo critérios como \"patience\":**\n",
        "- **Fazendo o treinamento do modelo**"
      ],
      "metadata": {
        "id": "Av2IG49j1kNB"
      }
    },
    {
      "cell_type": "code",
      "source": [
        "parada_antecipada = keras.callbacks.EarlyStopping(\n",
        "    patience=5,\n",
        "    verbose=1,\n",
        "    min_delta=1E-4\n",
        ")\n",
        "\n",
        "history = modelo1.fit(\n",
        "    xtrain,\n",
        "    ytrain,\n",
        "    epochs=200,\n",
        "    batch_size=256,\n",
        "    validation_split=0.2,\n",
        "    callbacks=[parada_antecipada],\n",
        ")"
      ],
      "metadata": {
        "colab": {
          "base_uri": "https://localhost:8080/"
        },
        "id": "ptxui2swaYom",
        "outputId": "f1f313b4-5cc2-4e0e-8f67-58c6219ba810"
      },
      "execution_count": 63,
      "outputs": [
        {
          "output_type": "stream",
          "name": "stdout",
          "text": [
            "Epoch 1/200\n",
            "188/188 [==============================] - 3s 10ms/step - loss: 0.6020 - sparse_categorical_accuracy: 0.7955 - val_loss: 0.4510 - val_sparse_categorical_accuracy: 0.8450\n",
            "Epoch 2/200\n",
            "188/188 [==============================] - 2s 10ms/step - loss: 0.4143 - sparse_categorical_accuracy: 0.8565 - val_loss: 0.3945 - val_sparse_categorical_accuracy: 0.8643\n",
            "Epoch 3/200\n",
            "188/188 [==============================] - 3s 13ms/step - loss: 0.3758 - sparse_categorical_accuracy: 0.8671 - val_loss: 0.3875 - val_sparse_categorical_accuracy: 0.8608\n",
            "Epoch 4/200\n",
            "188/188 [==============================] - 2s 10ms/step - loss: 0.3498 - sparse_categorical_accuracy: 0.8758 - val_loss: 0.3582 - val_sparse_categorical_accuracy: 0.8719\n",
            "Epoch 5/200\n",
            "188/188 [==============================] - 2s 9ms/step - loss: 0.3283 - sparse_categorical_accuracy: 0.8821 - val_loss: 0.3552 - val_sparse_categorical_accuracy: 0.8758\n",
            "Epoch 6/200\n",
            "188/188 [==============================] - 2s 9ms/step - loss: 0.3097 - sparse_categorical_accuracy: 0.8891 - val_loss: 0.3336 - val_sparse_categorical_accuracy: 0.8807\n",
            "Epoch 7/200\n",
            "188/188 [==============================] - 2s 9ms/step - loss: 0.3025 - sparse_categorical_accuracy: 0.8911 - val_loss: 0.3673 - val_sparse_categorical_accuracy: 0.8731\n",
            "Epoch 8/200\n",
            "188/188 [==============================] - 2s 9ms/step - loss: 0.2805 - sparse_categorical_accuracy: 0.8981 - val_loss: 0.3313 - val_sparse_categorical_accuracy: 0.8810\n",
            "Epoch 9/200\n",
            "188/188 [==============================] - 2s 11ms/step - loss: 0.2707 - sparse_categorical_accuracy: 0.9027 - val_loss: 0.3300 - val_sparse_categorical_accuracy: 0.8818\n",
            "Epoch 10/200\n",
            "188/188 [==============================] - 2s 11ms/step - loss: 0.2610 - sparse_categorical_accuracy: 0.9060 - val_loss: 0.3192 - val_sparse_categorical_accuracy: 0.8859\n",
            "Epoch 11/200\n",
            "188/188 [==============================] - 2s 9ms/step - loss: 0.2526 - sparse_categorical_accuracy: 0.9086 - val_loss: 0.3218 - val_sparse_categorical_accuracy: 0.8862\n",
            "Epoch 12/200\n",
            "188/188 [==============================] - 2s 9ms/step - loss: 0.2459 - sparse_categorical_accuracy: 0.9102 - val_loss: 0.3097 - val_sparse_categorical_accuracy: 0.8882\n",
            "Epoch 13/200\n",
            "188/188 [==============================] - 2s 9ms/step - loss: 0.2358 - sparse_categorical_accuracy: 0.9149 - val_loss: 0.3193 - val_sparse_categorical_accuracy: 0.8848\n",
            "Epoch 14/200\n",
            "188/188 [==============================] - 2s 9ms/step - loss: 0.2283 - sparse_categorical_accuracy: 0.9171 - val_loss: 0.3423 - val_sparse_categorical_accuracy: 0.8837\n",
            "Epoch 15/200\n",
            "188/188 [==============================] - 2s 9ms/step - loss: 0.2230 - sparse_categorical_accuracy: 0.9198 - val_loss: 0.3238 - val_sparse_categorical_accuracy: 0.8861\n",
            "Epoch 16/200\n",
            "188/188 [==============================] - 3s 13ms/step - loss: 0.2160 - sparse_categorical_accuracy: 0.9217 - val_loss: 0.3196 - val_sparse_categorical_accuracy: 0.8873\n",
            "Epoch 17/200\n",
            "188/188 [==============================] - 2s 9ms/step - loss: 0.2078 - sparse_categorical_accuracy: 0.9253 - val_loss: 0.3089 - val_sparse_categorical_accuracy: 0.8931\n",
            "Epoch 18/200\n",
            "188/188 [==============================] - 2s 9ms/step - loss: 0.2035 - sparse_categorical_accuracy: 0.9269 - val_loss: 0.3062 - val_sparse_categorical_accuracy: 0.8934\n",
            "Epoch 19/200\n",
            "188/188 [==============================] - 2s 9ms/step - loss: 0.1980 - sparse_categorical_accuracy: 0.9276 - val_loss: 0.3187 - val_sparse_categorical_accuracy: 0.8884\n",
            "Epoch 20/200\n",
            "188/188 [==============================] - 2s 9ms/step - loss: 0.1948 - sparse_categorical_accuracy: 0.9298 - val_loss: 0.3345 - val_sparse_categorical_accuracy: 0.8823\n",
            "Epoch 21/200\n",
            "188/188 [==============================] - 2s 9ms/step - loss: 0.1854 - sparse_categorical_accuracy: 0.9340 - val_loss: 0.3141 - val_sparse_categorical_accuracy: 0.8878\n",
            "Epoch 22/200\n",
            "188/188 [==============================] - 2s 10ms/step - loss: 0.1838 - sparse_categorical_accuracy: 0.9323 - val_loss: 0.3300 - val_sparse_categorical_accuracy: 0.8857\n",
            "Epoch 23/200\n",
            "188/188 [==============================] - 2s 13ms/step - loss: 0.1810 - sparse_categorical_accuracy: 0.9341 - val_loss: 0.3233 - val_sparse_categorical_accuracy: 0.8907\n",
            "Epoch 23: early stopping\n"
          ]
        }
      ]
    },
    {
      "cell_type": "markdown",
      "source": [
        "**Evaluate do modelo:**"
      ],
      "metadata": {
        "id": "MfovMp5214mW"
      }
    },
    {
      "cell_type": "code",
      "source": [
        "modelo1.evaluate(xtest, ytest)"
      ],
      "metadata": {
        "colab": {
          "base_uri": "https://localhost:8080/"
        },
        "id": "2gHw94ljbzPd",
        "outputId": "465c8165-8f1a-4285-9585-ea3946ec2579"
      },
      "execution_count": 64,
      "outputs": [
        {
          "output_type": "stream",
          "name": "stdout",
          "text": [
            "313/313 [==============================] - 1s 2ms/step - loss: 0.3463 - sparse_categorical_accuracy: 0.8829\n"
          ]
        },
        {
          "output_type": "execute_result",
          "data": {
            "text/plain": [
              "[0.34626489877700806, 0.8828999996185303]"
            ]
          },
          "metadata": {},
          "execution_count": 64
        }
      ]
    },
    {
      "cell_type": "markdown",
      "source": [
        "**Visualizando a perda e acurácia nos dados de treino e validação:**"
      ],
      "metadata": {
        "id": "8Ckwl-5B17_-"
      }
    },
    {
      "cell_type": "code",
      "source": [
        "loss_and_accuracy(history)"
      ],
      "metadata": {
        "colab": {
          "base_uri": "https://localhost:8080/",
          "height": 372
        },
        "id": "pqVxs7meoT3t",
        "outputId": "d324b3c9-86a7-42c2-e931-527ac3637022"
      },
      "execution_count": 65,
      "outputs": [
        {
          "output_type": "display_data",
          "data": {
            "text/plain": [
              "<Figure size 1200x400 with 2 Axes>"
            ],
            "image/png": "[encoded data removed]"
          },
          "metadata": {}
        }
      ]
    },
    {
      "cell_type": "markdown",
      "source": [
        "Analisando o gráfico acima, vemos um caso clássico de \"overfitting\", ou seja, o gráfico basicamente \"decorou\" os dados, tendo assim, uma má generalização.\n",
        "\n",
        "- Obs: Atenção também na quantidade de ruídos e variações nas linhas dos dados de teste"
      ],
      "metadata": {
        "id": "RMsVn0b2bqGX"
      }
    },
    {
      "cell_type": "markdown",
      "source": [
        "**Visualizando resultados dos 20 primeiros valores da base de treino:**\n",
        "- Obs: Função criada no módulo \"Funções\"."
      ],
      "metadata": {
        "id": "DKuQ4Hwmj_Ki"
      }
    },
    {
      "cell_type": "code",
      "source": [
        "grafico_acertos_erros_modelo(modelo1, xtest, ytest)"
      ],
      "metadata": {
        "colab": {
          "base_uri": "https://localhost:8080/",
          "height": 810
        },
        "id": "QibT1US8pKJM",
        "outputId": "5acebde6-f71a-421f-fcf6-0573ef4a81f8"
      },
      "execution_count": 66,
      "outputs": [
        {
          "output_type": "display_data",
          "data": {
            "text/plain": [
              "<Figure size 1000x1000 with 20 Axes>"
            ],
            "image/png": "[encoded data removed]"
          },
          "metadata": {}
        }
      ]
    },
    {
      "cell_type": "markdown",
      "source": [
        "**Utilizando a Matrix de Confusão para análisar os acertos do modelo**\n",
        "- Obs: Função criada no módulo \"Funções\".\n",
        "- Parâmetros: x_teste, y_teste, modelo, amostras."
      ],
      "metadata": {
        "id": "ByDxvojsix5d"
      }
    },
    {
      "cell_type": "code",
      "source": [
        "visualizar_matrix_confusao(xtest,ytest,modelo1,1000)"
      ],
      "metadata": {
        "colab": {
          "base_uri": "https://localhost:8080/"
        },
        "id": "6FgdzBo7rvmd",
        "outputId": "5c078a39-2a17-41fb-a984-6fad62f7f3c2"
      },
      "execution_count": 67,
      "outputs": [
        {
          "output_type": "execute_result",
          "data": {
            "text/plain": [
              "array([[ 89,   1,   3,   0,   0,   0,  13,   0,   1,   0],\n",
              "       [  0, 103,   0,   2,   0,   0,   0,   0,   0,   0],\n",
              "       [  2,   0,  86,   2,  12,   0,   9,   0,   0,   0],\n",
              "       [  4,   0,   2,  81,   3,   0,   3,   0,   0,   0],\n",
              "       [  0,   0,   5,   4, 104,   0,   2,   0,   0,   0],\n",
              "       [  0,   0,   0,   0,   0,  85,   0,   2,   0,   0],\n",
              "       [  6,   0,   6,   2,  15,   0,  68,   0,   0,   0],\n",
              "       [  0,   0,   0,   0,   0,   1,   0,  93,   0,   1],\n",
              "       [  2,   0,   3,   0,   0,   0,   0,   0,  90,   0],\n",
              "       [  0,   0,   0,   0,   0,   1,   0,   5,   0,  89]])"
            ]
          },
          "metadata": {},
          "execution_count": 67
        }
      ]
    },
    {
      "cell_type": "markdown",
      "source": [
        "# **Criando o segundo modelo de Redes Neurais**\n",
        "### **Características:**\n",
        "- Modelo **mediano**\n",
        "- **Rescaling** feito **dentro** do modelo\n",
        "- Rede Neural **CNN**\n",
        "- **Mais camadas ocultas**\n",
        "- **Sem camadas** de processamento"
      ],
      "metadata": {
        "id": "F_saiMm0cfYn"
      }
    },
    {
      "cell_type": "code",
      "source": [
        "fashion_mnist = keras.datasets.fashion_mnist\n",
        "(xtrain, ytrain), (xtest, ytest) = fashion_mnist.load_data()"
      ],
      "metadata": {
        "id": "rVm8GZi-lRwr"
      },
      "execution_count": 70,
      "outputs": []
    },
    {
      "cell_type": "code",
      "source": [
        "modelo2 = keras.models.Sequential()                                             #\n",
        "modelo2.add(keras.layers.InputLayer(input_shape=(28,28,1)))                     #\n",
        "modelo2.add(keras.layers.Rescaling(scale=1./255))                               #\n",
        "modelo2.add(keras.layers.Conv2D(64,(3,3), activation='relu'))                   #\n",
        "modelo2.add(keras.layers.Conv2D(64,(3,3), activation='relu'))                   #\n",
        "modelo2.add(keras.layers.Conv2D(64,(3,3), activation='relu'))                   #\n",
        "modelo2.add(keras.layers.Flatten())                                             #\n",
        "modelo2.add(keras.layers.Dense(10, activation='softmax'))                       #\n",
        "modelo2.summary()                                                               #"
      ],
      "metadata": {
        "colab": {
          "base_uri": "https://localhost:8080/"
        },
        "id": "jlAwLAiHlZu-",
        "outputId": "7ac1c97a-9cc2-44e1-f606-081145ddabe4"
      },
      "execution_count": 71,
      "outputs": [
        {
          "output_type": "stream",
          "name": "stdout",
          "text": [
            "Model: \"sequential_3\"\n",
            "_________________________________________________________________\n",
            " Layer (type)                Output Shape              Param #   \n",
            "=================================================================\n",
            " rescaling_1 (Rescaling)     (None, 28, 28, 1)         0         \n",
            "                                                                 \n",
            " conv2d_3 (Conv2D)           (None, 26, 26, 64)        640       \n",
            "                                                                 \n",
            " conv2d_4 (Conv2D)           (None, 24, 24, 64)        36928     \n",
            "                                                                 \n",
            " conv2d_5 (Conv2D)           (None, 22, 22, 64)        36928     \n",
            "                                                                 \n",
            " flatten_3 (Flatten)         (None, 30976)             0         \n",
            "                                                                 \n",
            " dense_5 (Dense)             (None, 10)                309770    \n",
            "                                                                 \n",
            "=================================================================\n",
            "Total params: 384266 (1.47 MB)\n",
            "Trainable params: 384266 (1.47 MB)\n",
            "Non-trainable params: 0 (0.00 Byte)\n",
            "_________________________________________________________________\n"
          ]
        }
      ]
    },
    {
      "cell_type": "code",
      "source": [
        "optimizer = keras.optimizers.Adam(learning_rate=1E-3)\n",
        "loss = keras.losses.SparseCategoricalCrossentropy()\n",
        "metric = keras.metrics.SparseCategoricalAccuracy()\n",
        "\n",
        "modelo2.compile(optimizer=optimizer, loss=loss, metrics=[metric])"
      ],
      "metadata": {
        "id": "fgxz8vttlZrI"
      },
      "execution_count": 72,
      "outputs": []
    },
    {
      "cell_type": "code",
      "source": [
        "early_stop = keras.callbacks.EarlyStopping(patience=5, verbose=1, min_delta=1E-4 )\n",
        "history2 = modelo2.fit(xtrain, ytrain, epochs=200, batch_size=256, validation_split=0.2, callbacks=[early_stop])"
      ],
      "metadata": {
        "colab": {
          "base_uri": "https://localhost:8080/",
          "height": 575
        },
        "id": "JtxQvw3BlZda",
        "outputId": "b25d8649-d4d7-46ac-83d0-b117d8ad057b"
      },
      "execution_count": 73,
      "outputs": [
        {
          "output_type": "stream",
          "name": "stdout",
          "text": [
            "Epoch 1/200\n",
            "188/188 [==============================] - 283s 1s/step - loss: 0.5266 - sparse_categorical_accuracy: 0.8141 - val_loss: 0.3616 - val_sparse_categorical_accuracy: 0.8714\n",
            "Epoch 2/200\n",
            "188/188 [==============================] - 280s 1s/step - loss: 0.3161 - sparse_categorical_accuracy: 0.8883 - val_loss: 0.2915 - val_sparse_categorical_accuracy: 0.8972\n",
            "Epoch 3/200\n",
            "188/188 [==============================] - 289s 2s/step - loss: 0.2652 - sparse_categorical_accuracy: 0.9051 - val_loss: 0.2730 - val_sparse_categorical_accuracy: 0.9031\n",
            "Epoch 4/200\n",
            "188/188 [==============================] - 284s 2s/step - loss: 0.2272 - sparse_categorical_accuracy: 0.9174 - val_loss: 0.2540 - val_sparse_categorical_accuracy: 0.9092\n",
            "Epoch 5/200\n",
            "188/188 [==============================] - 282s 1s/step - loss: 0.1992 - sparse_categorical_accuracy: 0.9284 - val_loss: 0.2508 - val_sparse_categorical_accuracy: 0.9122\n",
            "Epoch 6/200\n",
            " 23/188 [==>...........................] - ETA: 3:56 - loss: 0.1742 - sparse_categorical_accuracy: 0.9389"
          ]
        },
        {
          "output_type": "error",
          "ename": "KeyboardInterrupt",
          "evalue": "",
          "traceback": [
            "\u001b[0;31m---------------------------------------------------------------------------\u001b[0m",
            "\u001b[0;31mKeyboardInterrupt\u001b[0m                         Traceback (most recent call last)",
            "\u001b[0;32m<ipython-input-73-4d28651e9e45>\u001b[0m in \u001b[0;36m<cell line: 2>\u001b[0;34m()\u001b[0m\n\u001b[1;32m      1\u001b[0m \u001b[0mearly_stop\u001b[0m \u001b[0;34m=\u001b[0m \u001b[0mkeras\u001b[0m\u001b[0;34m.\u001b[0m\u001b[0mcallbacks\u001b[0m\u001b[0;34m.\u001b[0m\u001b[0mEarlyStopping\u001b[0m\u001b[0;34m(\u001b[0m\u001b[0mpatience\u001b[0m\u001b[0;34m=\u001b[0m\u001b[0;36m5\u001b[0m\u001b[0;34m,\u001b[0m \u001b[0mverbose\u001b[0m\u001b[0;34m=\u001b[0m\u001b[0;36m1\u001b[0m\u001b[0;34m,\u001b[0m \u001b[0mmin_delta\u001b[0m\u001b[0;34m=\u001b[0m\u001b[0;36m1E-4\u001b[0m \u001b[0;34m)\u001b[0m\u001b[0;34m\u001b[0m\u001b[0;34m\u001b[0m\u001b[0m\n\u001b[0;32m----> 2\u001b[0;31m \u001b[0mhistory2\u001b[0m \u001b[0;34m=\u001b[0m \u001b[0mmodelo2\u001b[0m\u001b[0;34m.\u001b[0m\u001b[0mfit\u001b[0m\u001b[0;34m(\u001b[0m\u001b[0mxtrain\u001b[0m\u001b[0;34m,\u001b[0m \u001b[0mytrain\u001b[0m\u001b[0;34m,\u001b[0m \u001b[0mepochs\u001b[0m\u001b[0;34m=\u001b[0m\u001b[0;36m200\u001b[0m\u001b[0;34m,\u001b[0m \u001b[0mbatch_size\u001b[0m\u001b[0;34m=\u001b[0m\u001b[0;36m256\u001b[0m\u001b[0;34m,\u001b[0m \u001b[0mvalidation_split\u001b[0m\u001b[0;34m=\u001b[0m\u001b[0;36m0.2\u001b[0m\u001b[0;34m,\u001b[0m \u001b[0mcallbacks\u001b[0m\u001b[0;34m=\u001b[0m\u001b[0;34m[\u001b[0m\u001b[0mearly_stop\u001b[0m\u001b[0;34m]\u001b[0m\u001b[0;34m)\u001b[0m\u001b[0;34m\u001b[0m\u001b[0;34m\u001b[0m\u001b[0m\n\u001b[0m",
            "\u001b[0;32m/usr/local/lib/python3.10/dist-packages/keras/src/utils/traceback_utils.py\u001b[0m in \u001b[0;36merror_handler\u001b[0;34m(*args, **kwargs)\u001b[0m\n\u001b[1;32m     63\u001b[0m         \u001b[0mfiltered_tb\u001b[0m \u001b[0;34m=\u001b[0m \u001b[0;32mNone\u001b[0m\u001b[0;34m\u001b[0m\u001b[0;34m\u001b[0m\u001b[0m\n\u001b[1;32m     64\u001b[0m         \u001b[0;32mtry\u001b[0m\u001b[0;34m:\u001b[0m\u001b[0;34m\u001b[0m\u001b[0;34m\u001b[0m\u001b[0m\n\u001b[0;32m---> 65\u001b[0;31m             \u001b[0;32mreturn\u001b[0m \u001b[0mfn\u001b[0m\u001b[0;34m(\u001b[0m\u001b[0;34m*\u001b[0m\u001b[0margs\u001b[0m\u001b[0;34m,\u001b[0m \u001b[0;34m**\u001b[0m\u001b[0mkwargs\u001b[0m\u001b[0;34m)\u001b[0m\u001b[0;34m\u001b[0m\u001b[0;34m\u001b[0m\u001b[0m\n\u001b[0m\u001b[1;32m     66\u001b[0m         \u001b[0;32mexcept\u001b[0m \u001b[0mException\u001b[0m \u001b[0;32mas\u001b[0m \u001b[0me\u001b[0m\u001b[0;34m:\u001b[0m\u001b[0;34m\u001b[0m\u001b[0;34m\u001b[0m\u001b[0m\n\u001b[1;32m     67\u001b[0m             \u001b[0mfiltered_tb\u001b[0m \u001b[0;34m=\u001b[0m \u001b[0m_process_traceback_frames\u001b[0m\u001b[0;34m(\u001b[0m\u001b[0me\u001b[0m\u001b[0;34m.\u001b[0m\u001b[0m__traceback__\u001b[0m\u001b[0;34m)\u001b[0m\u001b[0;34m\u001b[0m\u001b[0;34m\u001b[0m\u001b[0m\n",
            "\u001b[0;32m/usr/local/lib/python3.10/dist-packages/keras/src/engine/training.py\u001b[0m in \u001b[0;36mfit\u001b[0;34m(self, x, y, batch_size, epochs, verbose, callbacks, validation_split, validation_data, shuffle, class_weight, sample_weight, initial_epoch, steps_per_epoch, validation_steps, validation_batch_size, validation_freq, max_queue_size, workers, use_multiprocessing)\u001b[0m\n\u001b[1;32m   1805\u001b[0m                         ):\n\u001b[1;32m   1806\u001b[0m                             \u001b[0mcallbacks\u001b[0m\u001b[0;34m.\u001b[0m\u001b[0mon_train_batch_begin\u001b[0m\u001b[0;34m(\u001b[0m\u001b[0mstep\u001b[0m\u001b[0;34m)\u001b[0m\u001b[0;34m\u001b[0m\u001b[0;34m\u001b[0m\u001b[0m\n\u001b[0;32m-> 1807\u001b[0;31m                             \u001b[0mtmp_logs\u001b[0m \u001b[0;34m=\u001b[0m \u001b[0mself\u001b[0m\u001b[0;34m.\u001b[0m\u001b[0mtrain_function\u001b[0m\u001b[0;34m(\u001b[0m\u001b[0miterator\u001b[0m\u001b[0;34m)\u001b[0m\u001b[0;34m\u001b[0m\u001b[0;34m\u001b[0m\u001b[0m\n\u001b[0m\u001b[1;32m   1808\u001b[0m                             \u001b[0;32mif\u001b[0m \u001b[0mdata_handler\u001b[0m\u001b[0;34m.\u001b[0m\u001b[0mshould_sync\u001b[0m\u001b[0;34m:\u001b[0m\u001b[0;34m\u001b[0m\u001b[0;34m\u001b[0m\u001b[0m\n\u001b[1;32m   1809\u001b[0m                                 \u001b[0mcontext\u001b[0m\u001b[0;34m.\u001b[0m\u001b[0masync_wait\u001b[0m\u001b[0;34m(\u001b[0m\u001b[0;34m)\u001b[0m\u001b[0;34m\u001b[0m\u001b[0;34m\u001b[0m\u001b[0m\n",
            "\u001b[0;32m/usr/local/lib/python3.10/dist-packages/tensorflow/python/util/traceback_utils.py\u001b[0m in \u001b[0;36merror_handler\u001b[0;34m(*args, **kwargs)\u001b[0m\n\u001b[1;32m    148\u001b[0m     \u001b[0mfiltered_tb\u001b[0m \u001b[0;34m=\u001b[0m \u001b[0;32mNone\u001b[0m\u001b[0;34m\u001b[0m\u001b[0;34m\u001b[0m\u001b[0m\n\u001b[1;32m    149\u001b[0m     \u001b[0;32mtry\u001b[0m\u001b[0;34m:\u001b[0m\u001b[0;34m\u001b[0m\u001b[0;34m\u001b[0m\u001b[0m\n\u001b[0;32m--> 150\u001b[0;31m       \u001b[0;32mreturn\u001b[0m \u001b[0mfn\u001b[0m\u001b[0;34m(\u001b[0m\u001b[0;34m*\u001b[0m\u001b[0margs\u001b[0m\u001b[0;34m,\u001b[0m \u001b[0;34m**\u001b[0m\u001b[0mkwargs\u001b[0m\u001b[0;34m)\u001b[0m\u001b[0;34m\u001b[0m\u001b[0;34m\u001b[0m\u001b[0m\n\u001b[0m\u001b[1;32m    151\u001b[0m     \u001b[0;32mexcept\u001b[0m \u001b[0mException\u001b[0m \u001b[0;32mas\u001b[0m \u001b[0me\u001b[0m\u001b[0;34m:\u001b[0m\u001b[0;34m\u001b[0m\u001b[0;34m\u001b[0m\u001b[0m\n\u001b[1;32m    152\u001b[0m       \u001b[0mfiltered_tb\u001b[0m \u001b[0;34m=\u001b[0m \u001b[0m_process_traceback_frames\u001b[0m\u001b[0;34m(\u001b[0m\u001b[0me\u001b[0m\u001b[0;34m.\u001b[0m\u001b[0m__traceback__\u001b[0m\u001b[0;34m)\u001b[0m\u001b[0;34m\u001b[0m\u001b[0;34m\u001b[0m\u001b[0m\n",
            "\u001b[0;32m/usr/local/lib/python3.10/dist-packages/tensorflow/python/eager/polymorphic_function/polymorphic_function.py\u001b[0m in \u001b[0;36m__call__\u001b[0;34m(self, *args, **kwds)\u001b[0m\n\u001b[1;32m    830\u001b[0m \u001b[0;34m\u001b[0m\u001b[0m\n\u001b[1;32m    831\u001b[0m       \u001b[0;32mwith\u001b[0m \u001b[0mOptionalXlaContext\u001b[0m\u001b[0;34m(\u001b[0m\u001b[0mself\u001b[0m\u001b[0;34m.\u001b[0m\u001b[0m_jit_compile\u001b[0m\u001b[0;34m)\u001b[0m\u001b[0;34m:\u001b[0m\u001b[0;34m\u001b[0m\u001b[0;34m\u001b[0m\u001b[0m\n\u001b[0;32m--> 832\u001b[0;31m         \u001b[0mresult\u001b[0m \u001b[0;34m=\u001b[0m \u001b[0mself\u001b[0m\u001b[0;34m.\u001b[0m\u001b[0m_call\u001b[0m\u001b[0;34m(\u001b[0m\u001b[0;34m*\u001b[0m\u001b[0margs\u001b[0m\u001b[0;34m,\u001b[0m \u001b[0;34m**\u001b[0m\u001b[0mkwds\u001b[0m\u001b[0;34m)\u001b[0m\u001b[0;34m\u001b[0m\u001b[0;34m\u001b[0m\u001b[0m\n\u001b[0m\u001b[1;32m    833\u001b[0m \u001b[0;34m\u001b[0m\u001b[0m\n\u001b[1;32m    834\u001b[0m       \u001b[0mnew_tracing_count\u001b[0m \u001b[0;34m=\u001b[0m \u001b[0mself\u001b[0m\u001b[0;34m.\u001b[0m\u001b[0mexperimental_get_tracing_count\u001b[0m\u001b[0;34m(\u001b[0m\u001b[0;34m)\u001b[0m\u001b[0;34m\u001b[0m\u001b[0;34m\u001b[0m\u001b[0m\n",
            "\u001b[0;32m/usr/local/lib/python3.10/dist-packages/tensorflow/python/eager/polymorphic_function/polymorphic_function.py\u001b[0m in \u001b[0;36m_call\u001b[0;34m(self, *args, **kwds)\u001b[0m\n\u001b[1;32m    866\u001b[0m       \u001b[0;31m# In this case we have created variables on the first call, so we run the\u001b[0m\u001b[0;34m\u001b[0m\u001b[0;34m\u001b[0m\u001b[0m\n\u001b[1;32m    867\u001b[0m       \u001b[0;31m# defunned version which is guaranteed to never create variables.\u001b[0m\u001b[0;34m\u001b[0m\u001b[0;34m\u001b[0m\u001b[0m\n\u001b[0;32m--> 868\u001b[0;31m       return tracing_compilation.call_function(\n\u001b[0m\u001b[1;32m    869\u001b[0m           \u001b[0margs\u001b[0m\u001b[0;34m,\u001b[0m \u001b[0mkwds\u001b[0m\u001b[0;34m,\u001b[0m \u001b[0mself\u001b[0m\u001b[0;34m.\u001b[0m\u001b[0m_no_variable_creation_config\u001b[0m\u001b[0;34m\u001b[0m\u001b[0;34m\u001b[0m\u001b[0m\n\u001b[1;32m    870\u001b[0m       )\n",
            "\u001b[0;32m/usr/local/lib/python3.10/dist-packages/tensorflow/python/eager/polymorphic_function/tracing_compilation.py\u001b[0m in \u001b[0;36mcall_function\u001b[0;34m(args, kwargs, tracing_options)\u001b[0m\n\u001b[1;32m    137\u001b[0m   \u001b[0mbound_args\u001b[0m \u001b[0;34m=\u001b[0m \u001b[0mfunction\u001b[0m\u001b[0;34m.\u001b[0m\u001b[0mfunction_type\u001b[0m\u001b[0;34m.\u001b[0m\u001b[0mbind\u001b[0m\u001b[0;34m(\u001b[0m\u001b[0;34m*\u001b[0m\u001b[0margs\u001b[0m\u001b[0;34m,\u001b[0m \u001b[0;34m**\u001b[0m\u001b[0mkwargs\u001b[0m\u001b[0;34m)\u001b[0m\u001b[0;34m\u001b[0m\u001b[0;34m\u001b[0m\u001b[0m\n\u001b[1;32m    138\u001b[0m   \u001b[0mflat_inputs\u001b[0m \u001b[0;34m=\u001b[0m \u001b[0mfunction\u001b[0m\u001b[0;34m.\u001b[0m\u001b[0mfunction_type\u001b[0m\u001b[0;34m.\u001b[0m\u001b[0munpack_inputs\u001b[0m\u001b[0;34m(\u001b[0m\u001b[0mbound_args\u001b[0m\u001b[0;34m)\u001b[0m\u001b[0;34m\u001b[0m\u001b[0;34m\u001b[0m\u001b[0m\n\u001b[0;32m--> 139\u001b[0;31m   return function._call_flat(  # pylint: disable=protected-access\n\u001b[0m\u001b[1;32m    140\u001b[0m       \u001b[0mflat_inputs\u001b[0m\u001b[0;34m,\u001b[0m \u001b[0mcaptured_inputs\u001b[0m\u001b[0;34m=\u001b[0m\u001b[0mfunction\u001b[0m\u001b[0;34m.\u001b[0m\u001b[0mcaptured_inputs\u001b[0m\u001b[0;34m\u001b[0m\u001b[0;34m\u001b[0m\u001b[0m\n\u001b[1;32m    141\u001b[0m   )\n",
            "\u001b[0;32m/usr/local/lib/python3.10/dist-packages/tensorflow/python/eager/polymorphic_function/concrete_function.py\u001b[0m in \u001b[0;36m_call_flat\u001b[0;34m(self, tensor_inputs, captured_inputs)\u001b[0m\n\u001b[1;32m   1321\u001b[0m         and executing_eagerly):\n\u001b[1;32m   1322\u001b[0m       \u001b[0;31m# No tape is watching; skip to running the function.\u001b[0m\u001b[0;34m\u001b[0m\u001b[0;34m\u001b[0m\u001b[0m\n\u001b[0;32m-> 1323\u001b[0;31m       \u001b[0;32mreturn\u001b[0m \u001b[0mself\u001b[0m\u001b[0;34m.\u001b[0m\u001b[0m_inference_function\u001b[0m\u001b[0;34m.\u001b[0m\u001b[0mcall_preflattened\u001b[0m\u001b[0;34m(\u001b[0m\u001b[0margs\u001b[0m\u001b[0;34m)\u001b[0m\u001b[0;34m\u001b[0m\u001b[0;34m\u001b[0m\u001b[0m\n\u001b[0m\u001b[1;32m   1324\u001b[0m     forward_backward = self._select_forward_and_backward_functions(\n\u001b[1;32m   1325\u001b[0m         \u001b[0margs\u001b[0m\u001b[0;34m,\u001b[0m\u001b[0;34m\u001b[0m\u001b[0;34m\u001b[0m\u001b[0m\n",
            "\u001b[0;32m/usr/local/lib/python3.10/dist-packages/tensorflow/python/eager/polymorphic_function/atomic_function.py\u001b[0m in \u001b[0;36mcall_preflattened\u001b[0;34m(self, args)\u001b[0m\n\u001b[1;32m    214\u001b[0m   \u001b[0;32mdef\u001b[0m \u001b[0mcall_preflattened\u001b[0m\u001b[0;34m(\u001b[0m\u001b[0mself\u001b[0m\u001b[0;34m,\u001b[0m \u001b[0margs\u001b[0m\u001b[0;34m:\u001b[0m \u001b[0mSequence\u001b[0m\u001b[0;34m[\u001b[0m\u001b[0mcore\u001b[0m\u001b[0;34m.\u001b[0m\u001b[0mTensor\u001b[0m\u001b[0;34m]\u001b[0m\u001b[0;34m)\u001b[0m \u001b[0;34m->\u001b[0m \u001b[0mAny\u001b[0m\u001b[0;34m:\u001b[0m\u001b[0;34m\u001b[0m\u001b[0;34m\u001b[0m\u001b[0m\n\u001b[1;32m    215\u001b[0m     \u001b[0;34m\"\"\"Calls with flattened tensor inputs and returns the structured output.\"\"\"\u001b[0m\u001b[0;34m\u001b[0m\u001b[0;34m\u001b[0m\u001b[0m\n\u001b[0;32m--> 216\u001b[0;31m     \u001b[0mflat_outputs\u001b[0m \u001b[0;34m=\u001b[0m \u001b[0mself\u001b[0m\u001b[0;34m.\u001b[0m\u001b[0mcall_flat\u001b[0m\u001b[0;34m(\u001b[0m\u001b[0;34m*\u001b[0m\u001b[0margs\u001b[0m\u001b[0;34m)\u001b[0m\u001b[0;34m\u001b[0m\u001b[0;34m\u001b[0m\u001b[0m\n\u001b[0m\u001b[1;32m    217\u001b[0m     \u001b[0;32mreturn\u001b[0m \u001b[0mself\u001b[0m\u001b[0;34m.\u001b[0m\u001b[0mfunction_type\u001b[0m\u001b[0;34m.\u001b[0m\u001b[0mpack_output\u001b[0m\u001b[0;34m(\u001b[0m\u001b[0mflat_outputs\u001b[0m\u001b[0;34m)\u001b[0m\u001b[0;34m\u001b[0m\u001b[0;34m\u001b[0m\u001b[0m\n\u001b[1;32m    218\u001b[0m \u001b[0;34m\u001b[0m\u001b[0m\n",
            "\u001b[0;32m/usr/local/lib/python3.10/dist-packages/tensorflow/python/eager/polymorphic_function/atomic_function.py\u001b[0m in \u001b[0;36mcall_flat\u001b[0;34m(self, *args)\u001b[0m\n\u001b[1;32m    249\u001b[0m         \u001b[0;32mwith\u001b[0m \u001b[0mrecord\u001b[0m\u001b[0;34m.\u001b[0m\u001b[0mstop_recording\u001b[0m\u001b[0;34m(\u001b[0m\u001b[0;34m)\u001b[0m\u001b[0;34m:\u001b[0m\u001b[0;34m\u001b[0m\u001b[0;34m\u001b[0m\u001b[0m\n\u001b[1;32m    250\u001b[0m           \u001b[0;32mif\u001b[0m \u001b[0mself\u001b[0m\u001b[0;34m.\u001b[0m\u001b[0m_bound_context\u001b[0m\u001b[0;34m.\u001b[0m\u001b[0mexecuting_eagerly\u001b[0m\u001b[0;34m(\u001b[0m\u001b[0;34m)\u001b[0m\u001b[0;34m:\u001b[0m\u001b[0;34m\u001b[0m\u001b[0;34m\u001b[0m\u001b[0m\n\u001b[0;32m--> 251\u001b[0;31m             outputs = self._bound_context.call_function(\n\u001b[0m\u001b[1;32m    252\u001b[0m                 \u001b[0mself\u001b[0m\u001b[0;34m.\u001b[0m\u001b[0mname\u001b[0m\u001b[0;34m,\u001b[0m\u001b[0;34m\u001b[0m\u001b[0;34m\u001b[0m\u001b[0m\n\u001b[1;32m    253\u001b[0m                 \u001b[0mlist\u001b[0m\u001b[0;34m(\u001b[0m\u001b[0margs\u001b[0m\u001b[0;34m)\u001b[0m\u001b[0;34m,\u001b[0m\u001b[0;34m\u001b[0m\u001b[0;34m\u001b[0m\u001b[0m\n",
            "\u001b[0;32m/usr/local/lib/python3.10/dist-packages/tensorflow/python/eager/context.py\u001b[0m in \u001b[0;36mcall_function\u001b[0;34m(self, name, tensor_inputs, num_outputs)\u001b[0m\n\u001b[1;32m   1484\u001b[0m     \u001b[0mcancellation_context\u001b[0m \u001b[0;34m=\u001b[0m \u001b[0mcancellation\u001b[0m\u001b[0;34m.\u001b[0m\u001b[0mcontext\u001b[0m\u001b[0;34m(\u001b[0m\u001b[0;34m)\u001b[0m\u001b[0;34m\u001b[0m\u001b[0;34m\u001b[0m\u001b[0m\n\u001b[1;32m   1485\u001b[0m     \u001b[0;32mif\u001b[0m \u001b[0mcancellation_context\u001b[0m \u001b[0;32mis\u001b[0m \u001b[0;32mNone\u001b[0m\u001b[0;34m:\u001b[0m\u001b[0;34m\u001b[0m\u001b[0;34m\u001b[0m\u001b[0m\n\u001b[0;32m-> 1486\u001b[0;31m       outputs = execute.execute(\n\u001b[0m\u001b[1;32m   1487\u001b[0m           \u001b[0mname\u001b[0m\u001b[0;34m.\u001b[0m\u001b[0mdecode\u001b[0m\u001b[0;34m(\u001b[0m\u001b[0;34m\"utf-8\"\u001b[0m\u001b[0;34m)\u001b[0m\u001b[0;34m,\u001b[0m\u001b[0;34m\u001b[0m\u001b[0;34m\u001b[0m\u001b[0m\n\u001b[1;32m   1488\u001b[0m           \u001b[0mnum_outputs\u001b[0m\u001b[0;34m=\u001b[0m\u001b[0mnum_outputs\u001b[0m\u001b[0;34m,\u001b[0m\u001b[0;34m\u001b[0m\u001b[0;34m\u001b[0m\u001b[0m\n",
            "\u001b[0;32m/usr/local/lib/python3.10/dist-packages/tensorflow/python/eager/execute.py\u001b[0m in \u001b[0;36mquick_execute\u001b[0;34m(op_name, num_outputs, inputs, attrs, ctx, name)\u001b[0m\n\u001b[1;32m     51\u001b[0m   \u001b[0;32mtry\u001b[0m\u001b[0;34m:\u001b[0m\u001b[0;34m\u001b[0m\u001b[0;34m\u001b[0m\u001b[0m\n\u001b[1;32m     52\u001b[0m     \u001b[0mctx\u001b[0m\u001b[0;34m.\u001b[0m\u001b[0mensure_initialized\u001b[0m\u001b[0;34m(\u001b[0m\u001b[0;34m)\u001b[0m\u001b[0;34m\u001b[0m\u001b[0;34m\u001b[0m\u001b[0m\n\u001b[0;32m---> 53\u001b[0;31m     tensors = pywrap_tfe.TFE_Py_Execute(ctx._handle, device_name, op_name,\n\u001b[0m\u001b[1;32m     54\u001b[0m                                         inputs, attrs, num_outputs)\n\u001b[1;32m     55\u001b[0m   \u001b[0;32mexcept\u001b[0m \u001b[0mcore\u001b[0m\u001b[0;34m.\u001b[0m\u001b[0m_NotOkStatusException\u001b[0m \u001b[0;32mas\u001b[0m \u001b[0me\u001b[0m\u001b[0;34m:\u001b[0m\u001b[0;34m\u001b[0m\u001b[0;34m\u001b[0m\u001b[0m\n",
            "\u001b[0;31mKeyboardInterrupt\u001b[0m: "
          ]
        }
      ]
    },
    {
      "cell_type": "code",
      "source": [
        "modelo2.evaluate(xtest, ytest)"
      ],
      "metadata": {
        "id": "Q12gok7DpSbK"
      },
      "execution_count": null,
      "outputs": []
    },
    {
      "cell_type": "markdown",
      "source": [
        "Tivemos um começo de overfitting, como podemos ver no gráfico abaixo:"
      ],
      "metadata": {
        "id": "pfB65YBsrTn8"
      }
    },
    {
      "cell_type": "code",
      "source": [
        "loss_and_accuracy(history2)"
      ],
      "metadata": {
        "id": "y2IMWK_jrx-6"
      },
      "execution_count": null,
      "outputs": []
    },
    {
      "cell_type": "code",
      "source": [
        "grafico_acertos_erros_modelo(modelo2, xtest, ytest)"
      ],
      "metadata": {
        "id": "sbuYwxYqpYIH"
      },
      "execution_count": null,
      "outputs": []
    },
    {
      "cell_type": "code",
      "source": [
        "visualizar_matrix_confusao(xtest,ytest,modelo2,1000)"
      ],
      "metadata": {
        "id": "smaMS75NzgA7"
      },
      "execution_count": null,
      "outputs": []
    },
    {
      "cell_type": "markdown",
      "source": [
        "# **Criando o terceiro modelo de Redes Neurais**\n",
        "### **Características:**\n",
        "- Modelo **melhorado**\n",
        "- **Rescaling dentro** do modelo\n",
        "- **Pré processamento**\n",
        "- **Dropout**\n",
        "- Modelo **Conv2D**\n",
        "- **Estratégias** nas camadas"
      ],
      "metadata": {
        "id": "35xPUMLHuW05"
      }
    },
    {
      "cell_type": "code",
      "source": [
        "fashion_mnist = keras.datasets.fashion_mnist\n",
        "(xtrain, ytrain), (xtest, ytest) = fashion_mnist.load_data()"
      ],
      "metadata": {
        "id": "1sl5xWrWvIkE"
      },
      "execution_count": null,
      "outputs": []
    },
    {
      "cell_type": "code",
      "source": [
        "modelo3 = keras.models.Sequential()\n",
        "modelo3.add(keras.layers.InputLayer(input_shape=(28,28,1)))\n",
        "modelo3.add(keras.layers.Rescaling(scale=1./255))\n",
        "\n",
        "modelo3.add(keras.layers.RandomTranslation(height_factor=0.1, width_factor=0.1))\n",
        "modelo3.add(keras.layers.RandomZoom(0.1))\n",
        "modelo3.add(keras.layers.RandomContrast(0.1))\n",
        "\n",
        "modelo3.add(keras.layers.Conv2D(128,(3,3), activation='relu'))\n",
        "modelo3.add(keras.layers.Conv2D(256,(3,3), activation='relu'))\n",
        "modelo3.add(keras.layers.MaxPooling2D())\n",
        "modelo3.add(keras.layers.Dropout(0.2))\n",
        "modelo3.add(keras.layers.Conv2D(512,(3,3), activation='relu'))\n",
        "modelo3.add(keras.layers.MaxPooling2D())\n",
        "modelo3.add(keras.layers.Dropout(0.2))\n",
        "\n",
        "modelo3.add(keras.layers.Flatten())\n",
        "modelo3.add(keras.layers.Dense(10, activation='softmax'))\n",
        "modelo3.summary()"
      ],
      "metadata": {
        "id": "P6AFnwtJvIp8"
      },
      "execution_count": null,
      "outputs": []
    },
    {
      "cell_type": "code",
      "source": [
        "optimizer = keras.optimizers.Adam(learning_rate=1E-3)\n",
        "loss = keras.losses.SparseCategoricalCrossentropy()\n",
        "metric = keras.metrics.SparseCategoricalAccuracy()\n",
        "\n",
        "modelo3.compile(optimizer=optimizer, loss=loss, metrics=[metric])"
      ],
      "metadata": {
        "id": "pGvQGygsvIvP"
      },
      "execution_count": null,
      "outputs": []
    },
    {
      "cell_type": "code",
      "source": [
        "early_stop = keras.callbacks.EarlyStopping(monitor='val_loss',patience=5, verbose=1, restore_best_weights=True )\n",
        "history3 = modelo3.fit(xtrain, ytrain, epochs=50, batch_size=512, validation_split=0.10, callbacks=[early_stop])"
      ],
      "metadata": {
        "id": "Ex1sNEVGvI0q"
      },
      "execution_count": null,
      "outputs": []
    },
    {
      "cell_type": "code",
      "source": [
        "modelo3.evaluate(xtest, ytest)"
      ],
      "metadata": {
        "id": "E1QsoHMgvI5g"
      },
      "execution_count": null,
      "outputs": []
    },
    {
      "cell_type": "code",
      "source": [
        "loss_and_accuracy(history3)"
      ],
      "metadata": {
        "id": "CetDw3PvvI-o"
      },
      "execution_count": null,
      "outputs": []
    },
    {
      "cell_type": "code",
      "source": [
        "grafico_acertos_erros_modelo(modelo3, xtest, ytest)"
      ],
      "metadata": {
        "id": "g_Da2Wuepdr5"
      },
      "execution_count": null,
      "outputs": []
    },
    {
      "cell_type": "markdown",
      "source": [
        "O modelo conseguiu prever corretamente todas as imagens acima!"
      ],
      "metadata": {
        "id": "26-n_NT-zIwK"
      }
    },
    {
      "cell_type": "code",
      "source": [
        "visualizar_matrix_confusao(xtest,ytest,modelo3,1000)"
      ],
      "metadata": {
        "id": "bh1fLllcz60x"
      },
      "execution_count": null,
      "outputs": []
    }
  ]
}